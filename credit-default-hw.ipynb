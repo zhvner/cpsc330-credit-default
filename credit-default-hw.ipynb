{
  "cells": [
    {
      "cell_type": "code",
      "execution_count": null,
      "metadata": {
        "deletable": false,
        "editable": false,
        "id": "6YgcC21t8ar7"
      },
      "outputs": [],
      "source": [
        "# # Initialize Otter\n",
        "# import otter\n",
        "# grader = otter.Notebook(\"hw5.ipynb\")"
      ]
    },
    {
      "cell_type": "markdown",
      "metadata": {
        "id": "OMUvmFUn8ar8"
      },
      "source": [
        "# CPSC 330 - Applied Machine Learning\n",
        "\n",
        "## Homework 5: Putting it all together\n",
        "### Associated lectures: All material till lecture 13\n",
        "\n",
        "**Due date: Monday, October 28th, 2024 at 11:59pm**"
      ]
    },
    {
      "cell_type": "markdown",
      "metadata": {
        "id": "zifNR6MB8ar9"
      },
      "source": [
        "## Table of contents\n",
        "0. [Submission instructions](#si)\n",
        "1. [Understanding the problem](#1)\n",
        "2. [Data splitting](#2)\n",
        "3. [EDA](#3)\n",
        "4. [Feature engineering](#4)\n",
        "5. [Preprocessing and transformations](#5)\n",
        "6. [Baseline model](#6)\n",
        "7. [Linear models](#7)\n",
        "8. [Different models](#8)\n",
        "9. [Feature selection](#9)\n",
        "10. [Hyperparameter optimization](#10)\n",
        "11. [Interpretation and feature importances](#11)\n",
        "12. [Results on the test set](#12)\n",
        "13. [Summary of the results](#13)\n",
        "14. [Your takeaway from the course](#15)"
      ]
    },
    {
      "cell_type": "markdown",
      "metadata": {
        "id": "5TeJ8JXJ8ar9"
      },
      "source": [
        "<div class=\"alert alert-info\">\n",
        "\n",
        "## Submission instructions\n",
        "<hr>\n",
        "rubric={points:4}\n",
        "\n",
        "**You may work with a partner on this homework and submit your assignment as a group.** Below are some instructions on working as a group.  \n",
        "- The maximum group size is 2.\n",
        "- Use group work as an opportunity to collaborate and learn new things from each other.\n",
        "- Be respectful to each other and make sure you understand all the concepts in the assignment well.\n",
        "- It's your responsibility to make sure that the assignment is submitted by one of the group members before the deadline.\n",
        "- You can find the instructions on how to do group submission on Gradescope [here](https://help.gradescope.com/article/m5qz2xsnjy-student-add-group-members).\n",
        "- If you would like to use late tokens for the homework, all group members must have the necessary late tokens available. Please note that the late tokens will be counted for all members of the group.   \n",
        "\n",
        "\n",
        "Follow the [homework submission instructions](https://github.com/UBC-CS/cpsc330-2024W1/blob/master/docs/homework_instructions.md).\n",
        "\n",
        "1. Before submitting the assignment, run all cells in your notebook to make sure there are no errors by doing `Kernel -> Restart Kernel and Clear All Outputs` and then `Run -> Run All Cells`.\n",
        "2. Notebooks with cell execution numbers out of order or not starting from \"1\" will have marks deducted. Notebooks without the output displayed may not be graded at all (because we need to see the output in order to grade your work).\n",
        "3. Follow the [CPSC 330 homework instructions](https://ubc-cs.github.io/cpsc330-2024W1/docs/homework_instructions.html), which include information on how to do your assignment and how to submit your assignment.\n",
        "4. Upload your solution on Gradescope. Check out this [Gradescope Student Guide](https://lthub.ubc.ca/guides/gradescope-student-guide/) if you need help with Gradescope submission.\n",
        "5. Make sure that the plots and output are rendered properly in your submitted file. If the .ipynb file is too big and doesn't render on Gradescope, also upload a pdf or html in addition to the .ipynb so that the TAs can view your submission on Gradescope.\n",
        "\n",
        "\n",
        "_Note: The assignments will get gradually more open-ended as we progress through the course. In many cases, there won't be a single correct solution. Sometimes you will have to make your own choices and your own decisions (for example, on what parameter values to use when they are not explicitly provided in the instructions). Use your own judgment in such cases and justify your choices, if necessary._\n",
        "\n",
        "</div>"
      ]
    },
    {
      "cell_type": "markdown",
      "metadata": {
        "deletable": false,
        "editable": false,
        "id": "1To4pQE78ar-"
      },
      "source": [
        "<!-- BEGIN QUESTION -->\n",
        "\n",
        "## Imports"
      ]
    },
    {
      "cell_type": "markdown",
      "metadata": {
        "deletable": false,
        "editable": false,
        "id": "Eywrf98D8ar-"
      },
      "source": [
        "<div class=\"alert alert-warning\">\n",
        "    \n",
        "Imports\n",
        "    \n",
        "</div>\n",
        "\n",
        "_Points:_ 0"
      ]
    },
    {
      "cell_type": "code",
      "execution_count": null,
      "metadata": {
        "tags": [],
        "id": "i-mIrx408ar-"
      },
      "outputs": [],
      "source": [
        "import pandas as pd\n",
        "import matplotlib.pyplot as plt\n",
        "import numpy as np\n",
        "import seaborn as sns\n",
        "from sklearn.preprocessing import StandardScaler\n",
        "from sklearn.model_selection import train_test_split\n",
        "\n",
        "from sklearn.compose import ColumnTransformer\n",
        "from sklearn.preprocessing import StandardScaler, OneHotEncoder, OrdinalEncoder\n",
        "from sklearn.impute import SimpleImputer\n",
        "from sklearn.pipeline import Pipeline\n",
        "\n",
        "from sklearn.linear_model import LogisticRegression\n",
        "from sklearn.model_selection import GridSearchCV, cross_val_score\n",
        "from sklearn.preprocessing import StandardScaler\n",
        "from sklearn.pipeline import Pipeline"
      ]
    },
    {
      "cell_type": "markdown",
      "metadata": {
        "deletable": false,
        "editable": false,
        "id": "GdObYrhz8ar_"
      },
      "source": [
        "<!-- END QUESTION -->\n",
        "\n",
        "## Introduction <a name=\"in\"></a>\n",
        "\n",
        "In this homework you will be working on an open-ended mini-project, where you will put all the different things you have learned so far together to solve an interesting problem.\n",
        "\n",
        "A few notes and tips when you work on this mini-project:\n",
        "\n",
        "#### Tips\n",
        "1. This mini-project is open-ended, and while working on it, there might be some situations where you'll have to use your own judgment and make your own decisions (as you would be doing when you work as a data scientist). Make sure you explain your decisions whenever necessary.\n",
        "2. **Do not include everything you ever tried in your submission** -- it's fine just to have your final code. That said, your code should be reproducible and well-documented. For example, if you chose your hyperparameters based on some hyperparameter optimization experiment, you should leave in the code for that experiment so that someone else could re-run it and obtain the same hyperparameters, rather than mysteriously just setting the hyperparameters to some (carefully chosen) values in your code.\n",
        "3. If you realize that you are repeating a lot of code try to organize it in functions. Clear presentation of your code, experiments, and results is the key to be successful in this lab. You may use code from lecture notes or previous lab solutions with appropriate attributions.\n",
        "\n",
        "#### Assessment\n",
        "We plan to grade fairly and leniently. We don't have some secret target score that you need to achieve to get a good grade. **You'll be assessed on demonstration of mastery of course topics, clear presentation, and the quality of your analysis and results.** For example, if you just have a bunch of code and no text or figures, that's not good. If you do a bunch of sane things and get a lower accuracy than your friend, don't sweat it.\n",
        "\n",
        "\n",
        "#### A final note\n",
        "Finally, this style of this \"project\" question is different from other assignments. It'll be up to you to decide when you're \"done\" -- in fact, this is one of the hardest parts of real projects. But please don't spend WAY too much time on this... perhaps \"a few hours\" (15-20 hours???) is a good guideline for this project . Of course if you're having fun you're welcome to spend as much time as you want! But, if so, try not to do it out of perfectionism or getting the best possible grade. Do it because you're learning and enjoying it. Students from the past cohorts have found such kind of labs useful and fun and I hope you enjoy it as well."
      ]
    },
    {
      "cell_type": "markdown",
      "metadata": {
        "id": "O7C-nyiK8ar_"
      },
      "source": [
        "<br><br>"
      ]
    },
    {
      "cell_type": "markdown",
      "metadata": {
        "deletable": false,
        "editable": false,
        "id": "BdEpHaQB8ar_"
      },
      "source": [
        "<!-- BEGIN QUESTION -->\n",
        "\n",
        "## 1. Pick your problem and explain the prediction problem <a name=\"1\"></a>\n",
        "<hr>\n",
        "rubric={points:3}\n",
        "\n",
        "In this mini project, you have the option to choose on which dataset you will be working on. The tasks you will need to carry on will be similar, independently of your choice.\n",
        "\n",
        "### Option 1\n",
        "You can choose to work on a classification problem of predicting whether a credit card client will default or not.\n",
        "For this problem, you will use [Default of Credit Card Clients Dataset](https://www.kaggle.com/uciml/default-of-credit-card-clients-dataset). In this data set, there are 30,000 examples and 24 features, and the goal is to estimate whether a person will default (fail to pay) their credit card bills; this column is labeled \"default.payment.next.month\" in the data. The rest of the columns can be used as features. You may take some ideas and compare your results with [the associated research paper](https://www.sciencedirect.com/science/article/pii/S0957417407006719), which is available through [the UBC library](https://www.library.ubc.ca/).\n",
        "\n",
        "\n",
        "### Option 2\n",
        "You can choose to work on a regression problem using a [dataset](https://www.kaggle.com/dgomonov/new-york-city-airbnb-open-data) of New York City Airbnb listings from 2019. As usual, you'll need to start by downloading the dataset, then you will try to predict `reviews_per_month`, as a proxy for the popularity of the listing. Airbnb could use this sort of model to predict how popular future listings might be before they are posted, perhaps to help guide hosts create more appealing listings. In reality they might instead use something like vacancy rate or average rating as their target, but we do not have that available here.\n",
        "\n",
        "> Note there is an updated version of this dataset with more features available [here](http://insideairbnb.com/). The features were are using in `listings.csv.gz` for the New York city datasets. You will also see some other files like `reviews.csv.gz`. For your own interest you may want to explore the expanded dataset and try your analysis there. However, please submit your results on the dataset obtained from Kaggle.\n",
        "\n",
        "\n",
        "**Your tasks:**\n",
        "\n",
        "1. Spend some time understanding the options and pick the one you find more interesting (it may help spending some time looking at the documentation available on Kaggle for each dataset).\n",
        "2. After making your choice, focus on understanding the problem and what each feature means, again using the documentation on the dataset page on Kaggle. Write a few sentences on your initial thoughts on the problem and the dataset.\n",
        "3. Download the dataset and read it as a pandas dataframe."
      ]
    },
    {
      "cell_type": "markdown",
      "metadata": {
        "deletable": false,
        "editable": false,
        "id": "iMWGLC6n8ar_"
      },
      "source": [
        "<div class=\"alert alert-warning\">\n",
        "    \n",
        "Solution_1\n",
        "    \n",
        "</div>\n",
        "\n",
        "_Points:_ 3"
      ]
    },
    {
      "cell_type": "markdown",
      "metadata": {
        "jp-MarkdownHeadingCollapsed": true,
        "id": "-i3_Hlws8ar_"
      },
      "source": [
        "### Task 1: Picking a dataset"
      ]
    },
    {
      "cell_type": "markdown",
      "metadata": {
        "id": "svEa3XTU8ar_"
      },
      "source": [
        "Given my interest in finance and security, a classification task focused on predicting credit default aligns well with my background and aspirations. By analyzing historical payment behaviors and financial features, I can build a model to classify which customers are likely to default.\n",
        "\n",
        "This task is valuable in the finance sector for assessing credit risk, something I've engaged with in my data-related roles.  This project could serve as a practical demonstration of my capabilities in using machine learning to enhance financial security"
      ]
    },
    {
      "cell_type": "markdown",
      "metadata": {
        "jp-MarkdownHeadingCollapsed": true,
        "id": "ZKMaIpyw8ar_"
      },
      "source": [
        "### Task 2 - Initial thoughts on the problem and dataset features"
      ]
    },
    {
      "cell_type": "markdown",
      "metadata": {
        "id": "py0nGlhb8ar_"
      },
      "source": [
        "From reading the Kaggle documentation it became apparent to me that the problem focuses on finding clients who are at risk of missing payments based on historical financial and demographic data.\n",
        "\n",
        "The following features might represent a customer behavior: `LIMIT_BAL`(credit limit), `AGE` , monthly payment statuses `PAY_0` to `PAY_6`.\n",
        "\n",
        "As I scanned over the dataset, it seemed like payment history (e.g., payment delays) and credit limit may be predictors, because they demonstrate direct information into a customer's history with debt management.\n",
        "\n",
        "It is important to understand this since  it reflects financial patterns that could indicate default risk. My goal is to build a model that classifies customers effectively, aiding in proactive risk management, which is essential in the finance and security domain.\n",
        "\n",
        "\n",
        "\n",
        "\n",
        "\n",
        "\n"
      ]
    },
    {
      "cell_type": "markdown",
      "metadata": {
        "id": "swclyb0h8ar_"
      },
      "source": [
        "### Task 3: Reading & Exploring option 1 - credit card dataset"
      ]
    },
    {
      "cell_type": "code",
      "execution_count": null,
      "metadata": {
        "colab": {
          "base_uri": "https://localhost:8080/",
          "height": 365
        },
        "id": "ppK_Ngqx8ar_",
        "outputId": "279f713c-d5d7-4121-e504-3f02c623ae58"
      },
      "outputs": [
        {
          "output_type": "error",
          "ename": "FileNotFoundError",
          "evalue": "[Errno 2] No such file or directory: 'UCI_Credit_Card.csv'",
          "traceback": [
            "\u001b[0;31m---------------------------------------------------------------------------\u001b[0m",
            "\u001b[0;31mFileNotFoundError\u001b[0m                         Traceback (most recent call last)",
            "\u001b[0;32m<ipython-input-3-f1ef76208d65>\u001b[0m in \u001b[0;36m<cell line: 2>\u001b[0;34m()\u001b[0m\n\u001b[1;32m      1\u001b[0m \u001b[0mpath_A\u001b[0m\u001b[0;34m=\u001b[0m \u001b[0;34m\"UCI_Credit_Card.csv\"\u001b[0m\u001b[0;34m\u001b[0m\u001b[0;34m\u001b[0m\u001b[0m\n\u001b[0;32m----> 2\u001b[0;31m \u001b[0mcredit_data\u001b[0m \u001b[0;34m=\u001b[0m \u001b[0mpd\u001b[0m\u001b[0;34m.\u001b[0m\u001b[0mread_csv\u001b[0m\u001b[0;34m(\u001b[0m\u001b[0mpath_A\u001b[0m\u001b[0;34m)\u001b[0m\u001b[0;34m\u001b[0m\u001b[0;34m\u001b[0m\u001b[0m\n\u001b[0m\u001b[1;32m      3\u001b[0m \u001b[0;34m\u001b[0m\u001b[0m\n\u001b[1;32m      4\u001b[0m \u001b[0mcredit_data\u001b[0m\u001b[0;34m.\u001b[0m\u001b[0mhead\u001b[0m\u001b[0;34m(\u001b[0m\u001b[0;34m)\u001b[0m\u001b[0;34m\u001b[0m\u001b[0;34m\u001b[0m\u001b[0m\n",
            "\u001b[0;32m/usr/local/lib/python3.10/dist-packages/pandas/io/parsers/readers.py\u001b[0m in \u001b[0;36mread_csv\u001b[0;34m(filepath_or_buffer, sep, delimiter, header, names, index_col, usecols, dtype, engine, converters, true_values, false_values, skipinitialspace, skiprows, skipfooter, nrows, na_values, keep_default_na, na_filter, verbose, skip_blank_lines, parse_dates, infer_datetime_format, keep_date_col, date_parser, date_format, dayfirst, cache_dates, iterator, chunksize, compression, thousands, decimal, lineterminator, quotechar, quoting, doublequote, escapechar, comment, encoding, encoding_errors, dialect, on_bad_lines, delim_whitespace, low_memory, memory_map, float_precision, storage_options, dtype_backend)\u001b[0m\n\u001b[1;32m   1024\u001b[0m     \u001b[0mkwds\u001b[0m\u001b[0;34m.\u001b[0m\u001b[0mupdate\u001b[0m\u001b[0;34m(\u001b[0m\u001b[0mkwds_defaults\u001b[0m\u001b[0;34m)\u001b[0m\u001b[0;34m\u001b[0m\u001b[0;34m\u001b[0m\u001b[0m\n\u001b[1;32m   1025\u001b[0m \u001b[0;34m\u001b[0m\u001b[0m\n\u001b[0;32m-> 1026\u001b[0;31m     \u001b[0;32mreturn\u001b[0m \u001b[0m_read\u001b[0m\u001b[0;34m(\u001b[0m\u001b[0mfilepath_or_buffer\u001b[0m\u001b[0;34m,\u001b[0m \u001b[0mkwds\u001b[0m\u001b[0;34m)\u001b[0m\u001b[0;34m\u001b[0m\u001b[0;34m\u001b[0m\u001b[0m\n\u001b[0m\u001b[1;32m   1027\u001b[0m \u001b[0;34m\u001b[0m\u001b[0m\n\u001b[1;32m   1028\u001b[0m \u001b[0;34m\u001b[0m\u001b[0m\n",
            "\u001b[0;32m/usr/local/lib/python3.10/dist-packages/pandas/io/parsers/readers.py\u001b[0m in \u001b[0;36m_read\u001b[0;34m(filepath_or_buffer, kwds)\u001b[0m\n\u001b[1;32m    618\u001b[0m \u001b[0;34m\u001b[0m\u001b[0m\n\u001b[1;32m    619\u001b[0m     \u001b[0;31m# Create the parser.\u001b[0m\u001b[0;34m\u001b[0m\u001b[0;34m\u001b[0m\u001b[0m\n\u001b[0;32m--> 620\u001b[0;31m     \u001b[0mparser\u001b[0m \u001b[0;34m=\u001b[0m \u001b[0mTextFileReader\u001b[0m\u001b[0;34m(\u001b[0m\u001b[0mfilepath_or_buffer\u001b[0m\u001b[0;34m,\u001b[0m \u001b[0;34m**\u001b[0m\u001b[0mkwds\u001b[0m\u001b[0;34m)\u001b[0m\u001b[0;34m\u001b[0m\u001b[0;34m\u001b[0m\u001b[0m\n\u001b[0m\u001b[1;32m    621\u001b[0m \u001b[0;34m\u001b[0m\u001b[0m\n\u001b[1;32m    622\u001b[0m     \u001b[0;32mif\u001b[0m \u001b[0mchunksize\u001b[0m \u001b[0;32mor\u001b[0m \u001b[0miterator\u001b[0m\u001b[0;34m:\u001b[0m\u001b[0;34m\u001b[0m\u001b[0;34m\u001b[0m\u001b[0m\n",
            "\u001b[0;32m/usr/local/lib/python3.10/dist-packages/pandas/io/parsers/readers.py\u001b[0m in \u001b[0;36m__init__\u001b[0;34m(self, f, engine, **kwds)\u001b[0m\n\u001b[1;32m   1618\u001b[0m \u001b[0;34m\u001b[0m\u001b[0m\n\u001b[1;32m   1619\u001b[0m         \u001b[0mself\u001b[0m\u001b[0;34m.\u001b[0m\u001b[0mhandles\u001b[0m\u001b[0;34m:\u001b[0m \u001b[0mIOHandles\u001b[0m \u001b[0;34m|\u001b[0m \u001b[0;32mNone\u001b[0m \u001b[0;34m=\u001b[0m \u001b[0;32mNone\u001b[0m\u001b[0;34m\u001b[0m\u001b[0;34m\u001b[0m\u001b[0m\n\u001b[0;32m-> 1620\u001b[0;31m         \u001b[0mself\u001b[0m\u001b[0;34m.\u001b[0m\u001b[0m_engine\u001b[0m \u001b[0;34m=\u001b[0m \u001b[0mself\u001b[0m\u001b[0;34m.\u001b[0m\u001b[0m_make_engine\u001b[0m\u001b[0;34m(\u001b[0m\u001b[0mf\u001b[0m\u001b[0;34m,\u001b[0m \u001b[0mself\u001b[0m\u001b[0;34m.\u001b[0m\u001b[0mengine\u001b[0m\u001b[0;34m)\u001b[0m\u001b[0;34m\u001b[0m\u001b[0;34m\u001b[0m\u001b[0m\n\u001b[0m\u001b[1;32m   1621\u001b[0m \u001b[0;34m\u001b[0m\u001b[0m\n\u001b[1;32m   1622\u001b[0m     \u001b[0;32mdef\u001b[0m \u001b[0mclose\u001b[0m\u001b[0;34m(\u001b[0m\u001b[0mself\u001b[0m\u001b[0;34m)\u001b[0m \u001b[0;34m->\u001b[0m \u001b[0;32mNone\u001b[0m\u001b[0;34m:\u001b[0m\u001b[0;34m\u001b[0m\u001b[0;34m\u001b[0m\u001b[0m\n",
            "\u001b[0;32m/usr/local/lib/python3.10/dist-packages/pandas/io/parsers/readers.py\u001b[0m in \u001b[0;36m_make_engine\u001b[0;34m(self, f, engine)\u001b[0m\n\u001b[1;32m   1878\u001b[0m                 \u001b[0;32mif\u001b[0m \u001b[0;34m\"b\"\u001b[0m \u001b[0;32mnot\u001b[0m \u001b[0;32min\u001b[0m \u001b[0mmode\u001b[0m\u001b[0;34m:\u001b[0m\u001b[0;34m\u001b[0m\u001b[0;34m\u001b[0m\u001b[0m\n\u001b[1;32m   1879\u001b[0m                     \u001b[0mmode\u001b[0m \u001b[0;34m+=\u001b[0m \u001b[0;34m\"b\"\u001b[0m\u001b[0;34m\u001b[0m\u001b[0;34m\u001b[0m\u001b[0m\n\u001b[0;32m-> 1880\u001b[0;31m             self.handles = get_handle(\n\u001b[0m\u001b[1;32m   1881\u001b[0m                 \u001b[0mf\u001b[0m\u001b[0;34m,\u001b[0m\u001b[0;34m\u001b[0m\u001b[0;34m\u001b[0m\u001b[0m\n\u001b[1;32m   1882\u001b[0m                 \u001b[0mmode\u001b[0m\u001b[0;34m,\u001b[0m\u001b[0;34m\u001b[0m\u001b[0;34m\u001b[0m\u001b[0m\n",
            "\u001b[0;32m/usr/local/lib/python3.10/dist-packages/pandas/io/common.py\u001b[0m in \u001b[0;36mget_handle\u001b[0;34m(path_or_buf, mode, encoding, compression, memory_map, is_text, errors, storage_options)\u001b[0m\n\u001b[1;32m    871\u001b[0m         \u001b[0;32mif\u001b[0m \u001b[0mioargs\u001b[0m\u001b[0;34m.\u001b[0m\u001b[0mencoding\u001b[0m \u001b[0;32mand\u001b[0m \u001b[0;34m\"b\"\u001b[0m \u001b[0;32mnot\u001b[0m \u001b[0;32min\u001b[0m \u001b[0mioargs\u001b[0m\u001b[0;34m.\u001b[0m\u001b[0mmode\u001b[0m\u001b[0;34m:\u001b[0m\u001b[0;34m\u001b[0m\u001b[0;34m\u001b[0m\u001b[0m\n\u001b[1;32m    872\u001b[0m             \u001b[0;31m# Encoding\u001b[0m\u001b[0;34m\u001b[0m\u001b[0;34m\u001b[0m\u001b[0m\n\u001b[0;32m--> 873\u001b[0;31m             handle = open(\n\u001b[0m\u001b[1;32m    874\u001b[0m                 \u001b[0mhandle\u001b[0m\u001b[0;34m,\u001b[0m\u001b[0;34m\u001b[0m\u001b[0;34m\u001b[0m\u001b[0m\n\u001b[1;32m    875\u001b[0m                 \u001b[0mioargs\u001b[0m\u001b[0;34m.\u001b[0m\u001b[0mmode\u001b[0m\u001b[0;34m,\u001b[0m\u001b[0;34m\u001b[0m\u001b[0;34m\u001b[0m\u001b[0m\n",
            "\u001b[0;31mFileNotFoundError\u001b[0m: [Errno 2] No such file or directory: 'UCI_Credit_Card.csv'"
          ]
        }
      ],
      "source": [
        "path_A= \"UCI_Credit_Card.csv\"\n",
        "credit_data = pd.read_csv(path_A)\n",
        "\n",
        "credit_data.head()"
      ]
    },
    {
      "cell_type": "code",
      "execution_count": null,
      "metadata": {
        "id": "tqErZ2gZ8asA"
      },
      "outputs": [],
      "source": [
        "print(f\"{credit_data.shape[1]} columns in the dataset\")\n",
        "print(f\"{credit_data.shape[0]} records in the dataset\")"
      ]
    },
    {
      "cell_type": "markdown",
      "metadata": {
        "id": "Fw5Dxmfs8asA"
      },
      "source": [
        "The dataset has 25 columns, having variables related to identifiers, finance and demographics of credit holders. By looking at the `head()` of this dataset, we identified the following columns that can be important for our analysis:\n",
        "\n",
        "- `ID`: Unique identifier for each individual.\n",
        "- `LIMIT_BAL`: Credit limit of the individual.\n",
        "- `SEX`: Gender (1 = male, 2 = female).\n",
        "- `EDUCATION`: Education level (1 = graduate school, 2 = university, 3 = high school, 4 = others).\n",
        "- `MARRIAGE`: Marital status (1 = married, 2 = single, 3 = others).\n",
        "- `AGE`: Age of the individual.\n",
        "- `PAY_0` to `PAY_6`: Payment records in the last six months. (-1 = pay duly, 1 = payment delay for one month, etc.).\n",
        "- `BILL_AMT1` to `BILL_AMT6`: Bill statements in the last six months.\n",
        "- `PAY_AMT1` to `PAY_AMT6`: Paid Amount in the last six months.\n",
        "- `default.payment.next.month`: Target variable indicating if the customer defaulted on their payment next month (1 = yes, 0 = no).\n",
        "\n"
      ]
    },
    {
      "cell_type": "markdown",
      "metadata": {
        "deletable": false,
        "editable": false,
        "id": "Bob-hgiB8asA"
      },
      "source": [
        "<!-- END QUESTION -->\n",
        "\n",
        "<br><br>"
      ]
    },
    {
      "cell_type": "markdown",
      "metadata": {
        "deletable": false,
        "editable": false,
        "id": "eA6HUPR98asA"
      },
      "source": [
        "<!-- BEGIN QUESTION -->\n",
        "\n",
        "## 2. Data splitting <a name=\"2\"></a>\n",
        "<hr>\n",
        "rubric={points:2}\n",
        "\n",
        "**Your tasks:**\n",
        "\n",
        "1. Split the data into train (70%) and test (30%) portions with `random_state=123`.\n",
        "\n",
        "> If your computer cannot handle training on 70% training data, make the test split bigger.  "
      ]
    },
    {
      "cell_type": "markdown",
      "metadata": {
        "deletable": false,
        "editable": false,
        "id": "wdwdwPEu8asA"
      },
      "source": [
        "<div class=\"alert alert-warning\">\n",
        "    \n",
        "Solution_2\n",
        "    \n",
        "</div>\n",
        "\n",
        "_Points:_ 2"
      ]
    },
    {
      "cell_type": "code",
      "execution_count": null,
      "metadata": {
        "tags": [],
        "id": "T73I8Bt_8asA"
      },
      "outputs": [],
      "source": [
        "# defining X (input features) and y (target variable)\n",
        "X = credit_data.drop(columns=['ID', 'default.payment.next.month'])\n",
        "y = credit_data['default.payment.next.month']\n",
        "\n",
        "# splitting the data into train (70%) and test (30%) with random_state=123\n",
        "X_train, X_test, y_train, y_test = train_test_split(X, y, test_size=0.3, random_state=123)\n",
        "\n",
        "# checking the shape of the split data\n",
        "X_train.shape, X_test.shape, y_train.shape, y_test.shape"
      ]
    },
    {
      "cell_type": "markdown",
      "metadata": {
        "id": "ze0Srppc8asA"
      },
      "source": [
        "We can interpret the output as following:\n",
        "- Training set has 21,000 samples with 23 features.\n",
        "- Test set has 9,000 samples with 23 features."
      ]
    },
    {
      "cell_type": "markdown",
      "metadata": {
        "deletable": false,
        "editable": false,
        "id": "a2rLPAIP8asB"
      },
      "source": [
        "<!-- END QUESTION -->\n",
        "\n",
        "<br><br>"
      ]
    },
    {
      "cell_type": "markdown",
      "metadata": {
        "deletable": false,
        "editable": false,
        "jp-MarkdownHeadingCollapsed": true,
        "id": "LELAwWZf8asB"
      },
      "source": [
        "<!-- BEGIN QUESTION -->\n",
        "\n",
        "## 3. EDA <a name=\"3\"></a>\n",
        "<hr>\n",
        "rubric={points:10}\n",
        "\n",
        "**Your tasks:**\n",
        "\n",
        "1. Perform exploratory data analysis on the train set.\n",
        "2. Include at least two summary statistics and two visualizations that you find useful, and accompany each one with a sentence explaining it.\n",
        "3. Summarize your initial observations about the data.\n",
        "4. Pick appropriate metric/metrics for assessment."
      ]
    },
    {
      "cell_type": "markdown",
      "metadata": {
        "deletable": false,
        "editable": false,
        "id": "Nk_G25TR8asB"
      },
      "source": [
        "<div class=\"alert alert-warning\">\n",
        "    \n",
        "Solution_3\n",
        "    \n",
        "</div>\n",
        "\n",
        "_Points:_ 10"
      ]
    },
    {
      "cell_type": "markdown",
      "metadata": {
        "id": "GdNFqEf-8asB"
      },
      "source": [
        "### 1:  Summary statistics and Missing values"
      ]
    },
    {
      "cell_type": "code",
      "execution_count": null,
      "metadata": {
        "tags": [],
        "id": "yUvHg2gO8asB"
      },
      "outputs": [],
      "source": [
        "X_train.describe().T"
      ]
    },
    {
      "cell_type": "markdown",
      "metadata": {
        "id": "UXaBuqQC8asB"
      },
      "source": [
        "We see that there is no PAY_1, therefore, we will rename PAY_0 to PAY_1"
      ]
    },
    {
      "cell_type": "code",
      "execution_count": null,
      "metadata": {
        "id": "GBArJSQ68asB"
      },
      "outputs": [],
      "source": [
        "X_train.rename(columns={'PAY_0':'PAY_1'}, inplace=True)"
      ]
    },
    {
      "cell_type": "markdown",
      "metadata": {
        "id": "AcJCTNiQ8asB"
      },
      "source": [
        "#### Below is the key observations from the `summary` table"
      ]
    },
    {
      "cell_type": "markdown",
      "metadata": {
        "id": "HeemSdiq8asB"
      },
      "source": [
        "The above proportions show that roughly 77% of customers are not anticipated to to default payment and the rest of 23% are expected to default payment."
      ]
    },
    {
      "cell_type": "markdown",
      "metadata": {
        "id": "N9kgLQ4I8asB"
      },
      "source": [
        "`LIMIT_BAL`: From the first feature `LIMIT_BAL`, we see that the credit limit range from 10,000 to 1,000,000, and the median is 140000, presenting to us the idea that there is a **variety present in the grup of clients**."
      ]
    },
    {
      "cell_type": "markdown",
      "metadata": {
        "id": "yyACnP_l8asB"
      },
      "source": [
        "`AGE`: From another numerical feature `AGE`, we notice the range to be 21 to 79, showing us that the customers of this bank are adults. In percentiles, we  see that shows that 50% of customers are aged 34 or below, and 75% are 41 or below, meaning that the customer base is still younger.\n"
      ]
    },
    {
      "cell_type": "markdown",
      "metadata": {
        "id": "WU0D21458asB"
      },
      "source": [
        "`PAY_#`:\n",
        "\n",
        "The mean of payment status columns(`PAY_0` to `PAY_6`) are close to zero, implying that, on average, clients have lower delays.\n",
        "\n",
        "- Negative values are for on-time payments\n",
        "- Positive show delays"
      ]
    },
    {
      "cell_type": "markdown",
      "metadata": {
        "id": "M7MufzEO8asB"
      },
      "source": [
        "`BILL_AMT#`:\n",
        "\n",
        "As we look at the mean values of bill payments (`BILL_AMT1` to `BILL_AMT6`), it decreases slightly over the months, which could indicate seasonal variations or some context changes in customer spending."
      ]
    },
    {
      "cell_type": "markdown",
      "metadata": {
        "id": "oDdl41C28asB"
      },
      "source": [
        "`PAY_AMT#`:\n",
        "\n",
        "For mean payment amounts (`PAY_AMT1` to `PAY_AMT6`), it is shown around 5,000, with high variability, showing that while some customers make high payments, others pay significantly less."
      ]
    },
    {
      "cell_type": "markdown",
      "metadata": {
        "jp-MarkdownHeadingCollapsed": true,
        "id": "b7N3BBF18asB"
      },
      "source": [
        "#### Target distribution of training set"
      ]
    },
    {
      "cell_type": "code",
      "execution_count": null,
      "metadata": {
        "id": "iI8jwAmC8asF"
      },
      "outputs": [],
      "source": [
        "y_train.value_counts(normalize=True) * 100"
      ]
    },
    {
      "cell_type": "markdown",
      "metadata": {
        "id": "2jzFSh4W8asF"
      },
      "source": [
        "The above proportions show that roughly 77% of customers are not anticipated to to default payment and the rest of 23% are expected to default payment."
      ]
    },
    {
      "cell_type": "markdown",
      "metadata": {
        "jp-MarkdownHeadingCollapsed": true,
        "id": "AqW_9uw-8asF"
      },
      "source": [
        "#### MISSING VALUES"
      ]
    },
    {
      "cell_type": "code",
      "execution_count": null,
      "metadata": {
        "tags": [],
        "id": "nbTGj3vq8asG"
      },
      "outputs": [],
      "source": [
        "#checking for missing values in the training dataset\n",
        "X_train.isnull().sum()"
      ]
    },
    {
      "cell_type": "markdown",
      "metadata": {
        "id": "FM5tjYrS8asG"
      },
      "source": [
        "There are no missing values in the training dataset, which makes it more simple to analyze and prepare the model ."
      ]
    },
    {
      "cell_type": "markdown",
      "metadata": {
        "id": "NVYVRm2O8asG"
      },
      "source": [
        "#### 2. Data Visualizations and interpretations"
      ]
    },
    {
      "cell_type": "markdown",
      "metadata": {
        "id": "xLHS0V_D8asG"
      },
      "source": [
        "##### Visualization 1,2"
      ]
    },
    {
      "cell_type": "code",
      "execution_count": null,
      "metadata": {
        "id": "vTjpNM3q8asG"
      },
      "outputs": [],
      "source": [
        "summary_stats = X_train[['LIMIT_BAL', 'AGE', 'BILL_AMT1', 'PAY_AMT1', 'PAY_1']].agg(['mean', 'std'])\n",
        "plt.figure(figsize=(12, 5))\n",
        "# Visualization 1: Distribution of `LIMIT_BAL` (Credit Limit)\n",
        "plt.subplot(1, 2, 1)\n",
        "sns.histplot(X_train['LIMIT_BAL'], kde=True, color='purple', edgecolor='#BB8FCE')\n",
        "plt.title('Distribution of Credit Limit (LIMIT_BAL)')\n",
        "plt.xlabel('Credit Limit')\n",
        "plt.ylabel('Frequency')\n",
        "\n",
        "# Visualization 2: Distribution of `AGE`\n",
        "plt.subplot(1, 2, 2 )\n",
        "sns.histplot(X_train['AGE'], kde=True, color='teal', edgecolor='#48C9B0')\n",
        "plt.title('Distribution of Age (AGE)')\n",
        "plt.xlabel('Age')\n",
        "plt.ylabel('Frequency')\n",
        "\n",
        "plt.tight_layout()\n",
        "plt.show()\n"
      ]
    },
    {
      "cell_type": "markdown",
      "metadata": {
        "id": "UKoxXthe8asG"
      },
      "source": [
        "It seemed reasonable to plot kde histograms for continous variables like `LIMIT_BAL` and `AGE`. These visualizations presents a right skewed histograms, where the highest point (peak) of the graph is on the left.  The smaller values appear more frequent in the data, while the larger values are not as common.\n",
        "\n",
        "Therefore, we can interpret that a big portion of clients around low to moderate credit limits and are mostly below 40 years old. This suggests that while most young customers have conventional limits, some who are older have notably high limits."
      ]
    },
    {
      "cell_type": "markdown",
      "metadata": {
        "id": "hB4BHkBU8asG"
      },
      "source": [
        "##### Visualization 2"
      ]
    },
    {
      "cell_type": "code",
      "execution_count": null,
      "metadata": {
        "id": "jPpba6_E8asG"
      },
      "outputs": [],
      "source": [
        "credit_data.dtypes"
      ]
    },
    {
      "cell_type": "markdown",
      "metadata": {
        "id": "Ua-5rIcC8asG"
      },
      "source": [
        "Since most of the features in this dataset are numeric, we still have to be able to understand their representation.\n",
        "\n",
        "1. `LIMIT_BAL`, `AGE`, `BILL_AMT#`, `PAY_AMT#` are numeric, representing information on financial values, age, and credit details.\n",
        "\n",
        "2. `PAY_#` is also numeric but have integer values that encode payment behavior (-1 for on-time, positive values for delays).\n",
        "\n",
        "3. `SEX`, `EDUCATION`, and `MARRIAGE` are represented numerically (e.g., SEX: 1 for male, 2 for female) but reflect categorical information about each client."
      ]
    },
    {
      "cell_type": "code",
      "execution_count": null,
      "metadata": {
        "id": "MfjX21D38asG"
      },
      "outputs": [],
      "source": [
        "plt.subplots(figsize=(30,20))\n",
        "sns.heatmap(X_train.corr(), annot=True, cmap=\"coolwarm\")\n",
        "plt.show()"
      ]
    },
    {
      "cell_type": "code",
      "execution_count": null,
      "metadata": {
        "id": "fc_JCX-18asG"
      },
      "outputs": [],
      "source": [
        "X_train.rename(columns={'default.payment.next.month':'default_pay'}, inplace=True)"
      ]
    },
    {
      "cell_type": "code",
      "execution_count": null,
      "metadata": {
        "id": "hrgQjk5k8asG"
      },
      "outputs": [],
      "source": [
        "# calculate the correlation matrix\n",
        "corr_matrix = X_train.corr()\n",
        "\n",
        "# setting the threshold for high correlations\n",
        "# I chose 0.5 since, in the map, above 0.5,\n",
        "# it starts showing a moderate to strong correlation\n",
        "threshold = 0.5\n",
        "\n",
        "high_corr_matrix = corr_matrix.where(abs(corr_matrix) >= threshold, np.nan)\n",
        "# plotting the heatmap, masking values below the threshold\n",
        "plt.figure(figsize=(16, 12))\n",
        "sns.heatmap(high_corr_matrix, annot=True, cmap=\"coolwarm\", mask=high_corr_matrix.isna(), vmin=-1, vmax=1, fmt=\".2f\")\n",
        "plt.title(\"Filtered Correlation Heatmap (|correlation| >= 0.5)\")\n",
        "plt.show()"
      ]
    },
    {
      "cell_type": "markdown",
      "metadata": {
        "tags": [],
        "id": "4bSwwbqy8asG"
      },
      "source": [
        "The above heatmap introduces us to insights regarding correlation between potential input variables `PAY_#` and `BILL_#` and a target variable `default.payment.next.month` which we renamed to `default_pay`.\n",
        "\n",
        "- `PAY_#`, `BILL_#`: next month default prediction relies on repayment status and bill statements of past six months\n"
      ]
    },
    {
      "cell_type": "markdown",
      "metadata": {
        "id": "Jle_MKbi8asH"
      },
      "source": [
        "Since we previously saw that some of the variables are just numerical data types, we will transform them into a categorical type of features\n"
      ]
    },
    {
      "cell_type": "code",
      "execution_count": null,
      "metadata": {
        "id": "xQl2phU78asH"
      },
      "outputs": [],
      "source": [
        "# renaming columns to appropriate and accessible\n",
        "credit_data.rename(columns={'default.payment.next.month':'default_pay'}, inplace=True)\n",
        "credit_data.rename(columns={'PAY_0':'PAY_1'}, inplace=True)\n",
        "\n",
        "# change the datatype of categorical features from integer to category\n",
        "credit_data['SEX'] = credit_data['SEX'].astype(\"category\")\n",
        "credit_data['EDUCATION'] = credit_data['EDUCATION'].astype(\"category\")\n",
        "credit_data['MARRIAGE'] = credit_data['MARRIAGE'].astype(\"category\")\n",
        "credit_data['PAY_1'] = credit_data['PAY_1'].astype(\"category\")\n",
        "credit_data['PAY_2'] = credit_data['PAY_2'].astype(\"category\")\n",
        "credit_data['PAY_3'] = credit_data['PAY_3'].astype(\"category\")\n",
        "credit_data['PAY_4'] = credit_data['PAY_4'].astype(\"category\")\n",
        "credit_data['PAY_5'] = credit_data['PAY_5'].astype(\"category\")\n",
        "credit_data['PAY_6'] = credit_data['PAY_6'].astype(\"category\")\n",
        "\n",
        "credit_data['default_pay'] = credit_data['default_pay'].astype(\"category\")"
      ]
    },
    {
      "cell_type": "markdown",
      "metadata": {
        "id": "PskwSbo38asH"
      },
      "source": [
        "#### Metrics\n",
        "I plan to use Accuracy, F1 Score, Precision,Recall and Confusion Matrix for this classification problem,  Area Under the ROC Curve (AUC-ROC),  Area Under the Precision-Recall Curve (AUC-PR)"
      ]
    },
    {
      "cell_type": "markdown",
      "metadata": {
        "deletable": false,
        "editable": false,
        "id": "iuxgq6Ds8asH"
      },
      "source": [
        "<!-- END QUESTION -->\n",
        "\n",
        "<br><br>"
      ]
    },
    {
      "cell_type": "markdown",
      "metadata": {
        "deletable": false,
        "editable": false,
        "id": "AENnvymn8asH"
      },
      "source": [
        "<!-- BEGIN QUESTION -->\n",
        "\n",
        "## 4. Feature engineering <a name=\"4\"></a>\n",
        "<hr>\n",
        "rubric={points:1}\n",
        "\n",
        "**Your tasks:**\n",
        "\n",
        "1. Carry out feature engineering. In other words, extract new features relevant for the problem and work with your new feature set in the following exercises. You may have to go back and forth between feature engineering and preprocessing."
      ]
    },
    {
      "cell_type": "markdown",
      "metadata": {
        "deletable": false,
        "editable": false,
        "id": "vyYUSRno8asH"
      },
      "source": [
        "<div class=\"alert alert-warning\">\n",
        "    \n",
        "Solution_4\n",
        "    \n",
        "</div>\n",
        "\n",
        "_Points:_ 1"
      ]
    },
    {
      "cell_type": "markdown",
      "metadata": {
        "id": "03_1_Fl28asH"
      },
      "source": [
        "#### Discretize `AGE`"
      ]
    },
    {
      "cell_type": "code",
      "execution_count": null,
      "metadata": {
        "id": "kDdttBTu8asH"
      },
      "outputs": [],
      "source": [
        "from sklearn.preprocessing import KBinsDiscretizer\n",
        "age_binner = KBinsDiscretizer(n_bins=5, encode='ordinal', strategy='uniform')\n",
        "credit_data['AGE_BINNED'] = age_binner.fit_transform(credit_data[['AGE']])"
      ]
    },
    {
      "cell_type": "markdown",
      "metadata": {
        "id": "nFiAzpLi8asH"
      },
      "source": [
        "#### Total and Average Payment Amount:"
      ]
    },
    {
      "cell_type": "code",
      "execution_count": null,
      "metadata": {
        "id": "gLV45D8Q8asH"
      },
      "outputs": [],
      "source": [
        "credit_data['TOTAL_PAYMENT'] = credit_data[[f'PAY_AMT{i}' for i in range(1, 7)]].sum(axis=1)\n",
        "credit_data['AVG_PAYMENT'] = credit_data[[f'PAY_AMT{i}' for i in range(1, 7)]].mean(axis=1)\n"
      ]
    },
    {
      "cell_type": "code",
      "execution_count": null,
      "metadata": {
        "id": "cfNT0_WN8asH"
      },
      "outputs": [],
      "source": [
        "credit_data['TOTAL_BILL'] = credit_data[[f'BILL_AMT{i}' for i in range(1, 7)]].sum(axis=1)\n",
        "credit_data['AVG_BILL'] = credit_data[[f'BILL_AMT{i}' for i in range(1, 7)]].mean(axis=1)\n"
      ]
    },
    {
      "cell_type": "code",
      "execution_count": null,
      "metadata": {
        "id": "3SrtcUhU8asH"
      },
      "outputs": [],
      "source": [
        "for i in range(1, 7):\n",
        "    credit_data[f'DEBT_LIMIT_RATIO_{i}'] = credit_data[f'BILL_AMT{i}'] / credit_data['LIMIT_BAL']\n",
        "\n",
        "\n",
        "credit_data['AVG_DEBT_LIMIT_RATIO'] = credit_data[[f'DEBT_LIMIT_RATIO_{i}' for i in range(1, 7)]].mean(axis=1)\n",
        "credit_data['MAX_DEBT_LIMIT_RATIO'] = credit_data[[f'DEBT_LIMIT_RATIO_{i}' for i in range(1, 7)]].max(axis=1)\n"
      ]
    },
    {
      "cell_type": "markdown",
      "metadata": {
        "id": "TfaBilz28asH"
      },
      "source": [
        "Binary Features for Delayed Payments"
      ]
    },
    {
      "cell_type": "code",
      "execution_count": null,
      "metadata": {
        "scrolled": true,
        "id": "8kGurVx28asH"
      },
      "outputs": [],
      "source": [
        "for i in range(1, 7):\n",
        "    credit_data[f'DELAYED_PAYMENT_{i}'] = (credit_data[f'PAY_{i}'].astype(int) > 0).astype(int)\n"
      ]
    },
    {
      "cell_type": "markdown",
      "metadata": {
        "deletable": false,
        "editable": false,
        "id": "Q4_wjgcG8asH"
      },
      "source": [
        "<!-- END QUESTION -->\n",
        "\n",
        "<br><br>"
      ]
    },
    {
      "cell_type": "markdown",
      "metadata": {
        "deletable": false,
        "editable": false,
        "id": "ACemqTu98asH"
      },
      "source": [
        "<!-- BEGIN QUESTION -->\n",
        "\n",
        "## 5. Preprocessing and transformations <a name=\"5\"></a>\n",
        "<hr>\n",
        "rubric={points:10}\n",
        "\n",
        "**Your tasks:**\n",
        "\n",
        "1. Identify different feature types and the transformations you would apply on each feature type.\n",
        "2. Define a column transformer, if necessary."
      ]
    },
    {
      "cell_type": "markdown",
      "metadata": {
        "deletable": false,
        "editable": false,
        "id": "cjhYK3Yd8asH"
      },
      "source": [
        "<div class=\"alert alert-warning\">\n",
        "    \n",
        "Solution_5\n",
        "    \n",
        "</div>\n",
        "\n",
        "_Points:_ 10"
      ]
    },
    {
      "cell_type": "code",
      "execution_count": null,
      "metadata": {
        "tags": [],
        "id": "dQewVhv48asH"
      },
      "outputs": [],
      "source": [
        "for i in range(1, 7):\n",
        "    credit_data[f'DEBT_LIMIT_RATIO_{i}'] = np.where(\n",
        "        credit_data['LIMIT_BAL'] == 0, 0, credit_data[f'BILL_AMT{i}'] / credit_data['LIMIT_BAL']\n",
        "    )\n",
        "\n",
        "credit_data['AVG_DEBT_LIMIT_RATIO'] = credit_data[[f'DEBT_LIMIT_RATIO_{i}' for i in range(1, 7)]].mean(axis=1)\n",
        "credit_data['MAX_DEBT_LIMIT_RATIO'] = credit_data[[f'DEBT_LIMIT_RATIO_{i}' for i in range(1, 7)]].max(axis=1)\n",
        "\n",
        "numeric_features = [\n",
        "    'LIMIT_BAL', 'AGE', 'TOTAL_BILL', 'TOTAL_PAYMENT', 'AVG_BILL',\n",
        "    'AVG_PAYMENT', 'AVG_DEBT_LIMIT_RATIO', 'MAX_DEBT_LIMIT_RATIO'\n",
        "]\n",
        "ordinal_features = ['AGE_BINNED', 'EDUCATION', 'MARRIAGE']\n",
        "binary_features = [f'DELAYED_PAYMENT_{i}' for i in range(1, 7)]\n",
        "\n"
      ]
    },
    {
      "cell_type": "code",
      "execution_count": null,
      "metadata": {
        "id": "wXsB__p78asH"
      },
      "outputs": [],
      "source": [
        "numeric_transformer = Pipeline(steps=[\n",
        "    ('imputer', SimpleImputer(strategy='mean')),  # Handle missing values\n",
        "    ('scaler', StandardScaler())  # Scale data\n",
        "])\n",
        "\n",
        "# Updated ordinal transformations\n",
        "ordinal_transformer = Pipeline(steps=[\n",
        "    ('ordinal', OrdinalEncoder())  # Encode ordinal data\n",
        "])"
      ]
    },
    {
      "cell_type": "code",
      "execution_count": null,
      "metadata": {
        "tags": [],
        "id": "CYB4sORV8asH"
      },
      "outputs": [],
      "source": [
        "preprocessor = ColumnTransformer(\n",
        "    transformers=[\n",
        "        ('num', numeric_transformer, numeric_features),\n",
        "        ('ord', ordinal_transformer, ordinal_features),\n",
        "        ('passthrough', 'passthrough', binary_features)  # Pass binary features directly\n",
        "    ]\n",
        ")\n",
        "\n",
        "# Testing the preprocessor by applying it on a subset of the data\n",
        "transformed_data = preprocessor.fit_transform(credit_data)\n",
        "\n",
        "# Displaying the shape of the transformed data for verification\n",
        "transformed_data.shape"
      ]
    },
    {
      "cell_type": "markdown",
      "metadata": {
        "deletable": false,
        "editable": false,
        "id": "3CMXH92H8asI"
      },
      "source": [
        "<!-- END QUESTION -->\n",
        "\n",
        "<br><br>"
      ]
    },
    {
      "cell_type": "markdown",
      "metadata": {
        "deletable": false,
        "editable": false,
        "id": "7mdNuXjG8asI"
      },
      "source": [
        "<!-- BEGIN QUESTION -->\n",
        "\n",
        "## 6. Baseline model <a name=\"6\"></a>\n",
        "<hr>\n",
        "rubric={points:2}\n",
        "\n",
        "**Your tasks:**\n",
        "1. Try `scikit-learn`'s baseline model and report results."
      ]
    },
    {
      "cell_type": "markdown",
      "metadata": {
        "deletable": false,
        "editable": false,
        "id": "zxnKXWUg8asI"
      },
      "source": [
        "<div class=\"alert alert-warning\">\n",
        "    \n",
        "Solution_6\n",
        "    \n",
        "</div>\n",
        "\n",
        "_Points:_ 2"
      ]
    },
    {
      "cell_type": "code",
      "execution_count": null,
      "metadata": {
        "tags": [],
        "id": "pAH_bKn98asI"
      },
      "outputs": [],
      "source": [
        "from sklearn.dummy import DummyClassifier\n",
        "from sklearn.metrics import accuracy_score, f1_score, precision_score, recall_score\n",
        "from sklearn.model_selection import train_test_split"
      ]
    },
    {
      "cell_type": "code",
      "execution_count": null,
      "metadata": {
        "tags": [],
        "id": "zUMiK6Gt8asI"
      },
      "outputs": [],
      "source": [
        "X_train, X_test, y_train, y_test = train_test_split(credit_data.drop(columns='default_pay'),\n",
        "                                                    credit_data['default_pay'],\n",
        "                                                    test_size=0.3, random_state=42)\n",
        "\n",
        "baseline_model = DummyClassifier(strategy=\"most_frequent\")\n",
        "\n",
        "baseline_model.fit(X_train, y_train)\n",
        "\n",
        "y_pred_baseline = baseline_model.predict(X_test)"
      ]
    },
    {
      "cell_type": "code",
      "execution_count": null,
      "metadata": {
        "tags": [],
        "colab": {
          "base_uri": "https://localhost:8080/"
        },
        "id": "hqfQ0hhf8asI",
        "outputId": "b92b88d2-7336-4907-ed53-516d2e57c624"
      },
      "outputs": [
        {
          "output_type": "stream",
          "name": "stdout",
          "text": [
            "Baseline Model Results:\n",
            "\n",
            "Accuracy: 0.7822\n",
            "F1 Score: 0.6866\n",
            "Precision: 0.6119\n",
            "Recall: 0.7822\n"
          ]
        },
        {
          "output_type": "stream",
          "name": "stderr",
          "text": [
            "/usr/local/lib/python3.10/dist-packages/sklearn/metrics/_classification.py:1531: UndefinedMetricWarning: Precision is ill-defined and being set to 0.0 in labels with no predicted samples. Use `zero_division` parameter to control this behavior.\n",
            "  _warn_prf(average, modifier, f\"{metric.capitalize()} is\", len(result))\n"
          ]
        }
      ],
      "source": [
        "accuracy = accuracy_score(y_test, y_pred_baseline)\n",
        "f1 = f1_score(y_test, y_pred_baseline, average=\"weighted\")\n",
        "precision = precision_score(y_test, y_pred_baseline, average=\"weighted\")\n",
        "recall = recall_score(y_test, y_pred_baseline, average=\"weighted\")\n",
        "\n",
        "# Print results\n",
        "print(f\"Baseline Model Results:\\n\")\n",
        "print(f\"Accuracy: {accuracy:.4f}\")\n",
        "print(f\"F1 Score: {f1:.4f}\")\n",
        "print(f\"Precision: {precision:.4f}\")\n",
        "print(f\"Recall: {recall:.4f}\")"
      ]
    },
    {
      "cell_type": "markdown",
      "metadata": {
        "deletable": false,
        "editable": false,
        "id": "oeWaryzr8asI"
      },
      "source": [
        "<!-- END QUESTION -->\n",
        "\n",
        "<br><br>"
      ]
    },
    {
      "cell_type": "markdown",
      "metadata": {
        "deletable": false,
        "editable": false,
        "id": "q6qsn39I8asI"
      },
      "source": [
        "<!-- BEGIN QUESTION -->\n",
        "\n",
        "## 7. Linear models <a name=\"7\"></a>\n",
        "<hr>\n",
        "rubric={points:10}\n",
        "\n",
        "**Your tasks:**\n",
        "\n",
        "1. Try a linear model as a first real attempt.\n",
        "2. Carry out hyperparameter tuning to explore different values for the complexity hyperparameter.\n",
        "3. Report cross-validation scores along with standard deviation.\n",
        "4. Summarize your results."
      ]
    },
    {
      "cell_type": "markdown",
      "metadata": {
        "deletable": false,
        "editable": false,
        "id": "fOYNs0-W8asI"
      },
      "source": [
        "<div class=\"alert alert-warning\">\n",
        "    \n",
        "Solution_7\n",
        "    \n",
        "</div>\n",
        "\n",
        "_Points:_ 10"
      ]
    },
    {
      "cell_type": "markdown",
      "metadata": {
        "id": "840XvuCD8asI"
      },
      "source": [
        "_Type your answer here, replacing this text._"
      ]
    },
    {
      "cell_type": "code",
      "source": [
        "from sklearn.linear_model import LogisticRegression\n",
        "from sklearn.model_selection import cross_val_score, GridSearchCV\n",
        "from sklearn.pipeline import make_pipeline"
      ],
      "metadata": {
        "id": "ZCMuTeJmbiXM"
      },
      "execution_count": null,
      "outputs": []
    },
    {
      "cell_type": "code",
      "execution_count": null,
      "metadata": {
        "tags": [],
        "id": "p45a3ht88asI"
      },
      "outputs": [],
      "source": [
        "pipeline = make_pipeline(preprocessor, LogisticRegression(max_iter=1000))\n",
        "\n"
      ]
    },
    {
      "cell_type": "code",
      "execution_count": null,
      "metadata": {
        "tags": [],
        "id": "IbFUJZ-k8asI"
      },
      "outputs": [],
      "source": [
        "param_grid = {\n",
        "    'logisticregression__C': [0.01, 0.1, 1, 10, 100],  # Regularization strength\n",
        "    'logisticregression__penalty': ['l2'],  # Regularization type\n",
        "    'logisticregression__solver': ['liblinear', 'lbfgs']\n",
        "}"
      ]
    },
    {
      "cell_type": "code",
      "execution_count": null,
      "metadata": {
        "tags": [],
        "id": "suyMSQo88asI"
      },
      "outputs": [],
      "source": [
        "\n",
        "grid_search = GridSearchCV(pipeline, param_grid, cv=5, scoring='f1_weighted', return_train_score=True)\n",
        "grid_search.fit(X_train, y_train)\n",
        "\n",
        "\n",
        "cv_results = cross_val_score(grid_search.best_estimator_, X_train, y_train, cv=5, scoring='f1_weighted')\n"
      ]
    },
    {
      "cell_type": "code",
      "execution_count": null,
      "metadata": {
        "tags": [],
        "colab": {
          "base_uri": "https://localhost:8080/"
        },
        "id": "hRkIl1HE8asI",
        "outputId": "635e8435-7a2e-49b5-aa79-31e7b7a07dc7"
      },
      "outputs": [
        {
          "output_type": "execute_result",
          "data": {
            "text/plain": [
              "({'logisticregression__C': 0.1,\n",
              "  'logisticregression__penalty': 'l2',\n",
              "  'logisticregression__solver': 'liblinear'},\n",
              " 0.7802623332903363,\n",
              " 0.002530017692303241)"
            ]
          },
          "metadata": {},
          "execution_count": 48
        }
      ],
      "source": [
        "\n",
        "best_params = grid_search.best_params_\n",
        "mean_cv_score = cv_results.mean()\n",
        "std_cv_score = cv_results.std()\n",
        "\n",
        "best_params, mean_cv_score, std_cv_score"
      ]
    },
    {
      "cell_type": "code",
      "source": [
        "best_model = grid_search.best_estimator_\n",
        "best_params = grid_search.best_params_\n",
        "cv_results = grid_search.cv_results_\n",
        "\n",
        "# Summarize the results\n",
        "mean_auc = grid_search.best_score_\n",
        "print(f\"Best Hyperparameters: {best_params}\")\n",
        "print(f\"Best Mean Cross-Validation AUC: {mean_auc:.4f}\")\n"
      ],
      "metadata": {
        "colab": {
          "base_uri": "https://localhost:8080/"
        },
        "id": "e2YOeCl5br-d",
        "outputId": "b1388d4b-e286-49f8-886e-70d93f578181"
      },
      "execution_count": null,
      "outputs": [
        {
          "output_type": "stream",
          "name": "stdout",
          "text": [
            "Best Hyperparameters: {'logisticregression__C': 0.1, 'logisticregression__penalty': 'l2', 'logisticregression__solver': 'liblinear'}\n",
            "Best Mean Cross-Validation AUC: 0.7803\n"
          ]
        }
      ]
    },
    {
      "cell_type": "code",
      "source": [
        "results_df = pd.DataFrame({\n",
        "    'Metric': ['Best Parameters', 'Mean CV Score', 'Standard Deviation CV'],\n",
        "    'Value': [best_params, mean_cv_score, std_cv_score]\n",
        "})\n",
        "\n",
        "# Display the results\n",
        "print(results_df)"
      ],
      "metadata": {
        "colab": {
          "base_uri": "https://localhost:8080/"
        },
        "id": "4UB8_ParWieO",
        "outputId": "f3241ab5-5a2a-407c-ea6d-ce7d8a543288"
      },
      "execution_count": null,
      "outputs": [
        {
          "output_type": "stream",
          "name": "stdout",
          "text": [
            "                  Metric                                              Value\n",
            "0        Best Parameters  {'logisticregression__C': 0.1, 'logisticregres...\n",
            "1          Mean CV Score                                           0.780262\n",
            "2  Standard Deviation CV                                            0.00253\n"
          ]
        }
      ]
    },
    {
      "cell_type": "markdown",
      "metadata": {
        "deletable": false,
        "editable": false,
        "id": "PoKswIJp8asI"
      },
      "source": [
        "<!-- END QUESTION -->\n",
        "\n",
        "<br><br>"
      ]
    },
    {
      "cell_type": "markdown",
      "metadata": {
        "deletable": false,
        "editable": false,
        "id": "SFGl_-C58asI"
      },
      "source": [
        "<!-- BEGIN QUESTION -->\n",
        "\n",
        "## 8. Different models <a name=\"8\"></a>\n",
        "<hr>\n",
        "rubric={points:12}\n",
        "\n",
        "**Your tasks:**\n",
        "1. Try at least 3 other models aside from a linear model. One of these models should be a tree-based ensemble model.\n",
        "2. Summarize your results in terms of overfitting/underfitting and fit and score times. Can you beat a linear model?"
      ]
    },
    {
      "cell_type": "markdown",
      "metadata": {
        "deletable": false,
        "editable": false,
        "id": "DBS-AOd68asI"
      },
      "source": [
        "<div class=\"alert alert-warning\">\n",
        "    \n",
        "Solution_8\n",
        "    \n",
        "</div>\n",
        "\n",
        "_Points:_ 12"
      ]
    },
    {
      "cell_type": "markdown",
      "metadata": {
        "id": "o3x-BIUP8asI"
      },
      "source": [
        "_Type your answer here, replacing this text._"
      ]
    },
    {
      "cell_type": "code",
      "source": [
        "!pip install catboost"
      ],
      "metadata": {
        "colab": {
          "base_uri": "https://localhost:8080/"
        },
        "id": "-tRaer7CcxxC",
        "outputId": "2a232c06-82ba-4d5c-f134-4e62071f8abb"
      },
      "execution_count": null,
      "outputs": [
        {
          "output_type": "stream",
          "name": "stdout",
          "text": [
            "Collecting catboost\n",
            "  Downloading catboost-1.2.7-cp310-cp310-manylinux2014_x86_64.whl.metadata (1.2 kB)\n",
            "Requirement already satisfied: graphviz in /usr/local/lib/python3.10/dist-packages (from catboost) (0.20.3)\n",
            "Requirement already satisfied: matplotlib in /usr/local/lib/python3.10/dist-packages (from catboost) (3.8.0)\n",
            "Requirement already satisfied: numpy<2.0,>=1.16.0 in /usr/local/lib/python3.10/dist-packages (from catboost) (1.26.4)\n",
            "Requirement already satisfied: pandas>=0.24 in /usr/local/lib/python3.10/dist-packages (from catboost) (2.2.2)\n",
            "Requirement already satisfied: scipy in /usr/local/lib/python3.10/dist-packages (from catboost) (1.13.1)\n",
            "Requirement already satisfied: plotly in /usr/local/lib/python3.10/dist-packages (from catboost) (5.24.1)\n",
            "Requirement already satisfied: six in /usr/local/lib/python3.10/dist-packages (from catboost) (1.16.0)\n",
            "Requirement already satisfied: python-dateutil>=2.8.2 in /usr/local/lib/python3.10/dist-packages (from pandas>=0.24->catboost) (2.8.2)\n",
            "Requirement already satisfied: pytz>=2020.1 in /usr/local/lib/python3.10/dist-packages (from pandas>=0.24->catboost) (2024.2)\n",
            "Requirement already satisfied: tzdata>=2022.7 in /usr/local/lib/python3.10/dist-packages (from pandas>=0.24->catboost) (2024.2)\n",
            "Requirement already satisfied: contourpy>=1.0.1 in /usr/local/lib/python3.10/dist-packages (from matplotlib->catboost) (1.3.1)\n",
            "Requirement already satisfied: cycler>=0.10 in /usr/local/lib/python3.10/dist-packages (from matplotlib->catboost) (0.12.1)\n",
            "Requirement already satisfied: fonttools>=4.22.0 in /usr/local/lib/python3.10/dist-packages (from matplotlib->catboost) (4.55.1)\n",
            "Requirement already satisfied: kiwisolver>=1.0.1 in /usr/local/lib/python3.10/dist-packages (from matplotlib->catboost) (1.4.7)\n",
            "Requirement already satisfied: packaging>=20.0 in /usr/local/lib/python3.10/dist-packages (from matplotlib->catboost) (24.2)\n",
            "Requirement already satisfied: pillow>=6.2.0 in /usr/local/lib/python3.10/dist-packages (from matplotlib->catboost) (11.0.0)\n",
            "Requirement already satisfied: pyparsing>=2.3.1 in /usr/local/lib/python3.10/dist-packages (from matplotlib->catboost) (3.2.0)\n",
            "Requirement already satisfied: tenacity>=6.2.0 in /usr/local/lib/python3.10/dist-packages (from plotly->catboost) (9.0.0)\n",
            "Downloading catboost-1.2.7-cp310-cp310-manylinux2014_x86_64.whl (98.7 MB)\n",
            "\u001b[2K   \u001b[90m━━━━━━━━━━━━━━━━━━━━━━━━━━━━━━━━━━━━━━━━\u001b[0m \u001b[32m98.7/98.7 MB\u001b[0m \u001b[31m6.8 MB/s\u001b[0m eta \u001b[36m0:00:00\u001b[0m\n",
            "\u001b[?25hInstalling collected packages: catboost\n",
            "Successfully installed catboost-1.2.7\n"
          ]
        }
      ]
    },
    {
      "cell_type": "code",
      "execution_count": null,
      "metadata": {
        "tags": [],
        "id": "u06Z3Giw8asI"
      },
      "outputs": [],
      "source": [
        "from sklearn.ensemble import RandomForestClassifier\n",
        "from xgboost import XGBClassifier\n",
        "from lightgbm import LGBMClassifier\n",
        "from catboost import CatBoostClassifier\n",
        "from sklearn.model_selection import cross_validate\n",
        "from sklearn.pipeline import make_pipeline\n",
        "from sklearn.metrics import accuracy_score"
      ]
    },
    {
      "cell_type": "code",
      "execution_count": null,
      "metadata": {
        "id": "1ALqroxA8asJ"
      },
      "outputs": [],
      "source": [
        "models = {\n",
        "    \"Random Forest\": RandomForestClassifier(n_estimators=100, random_state=123),\n",
        "    \"XGBoost\": XGBClassifier(use_label_encoder=False, eval_metric=\"logloss\", random_state=123),\n",
        "    \"LightGBM\": LGBMClassifier(random_state=123),\n",
        "    \"CatBoost\": CatBoostClassifier(verbose=0, random_state=123),\n",
        "}\n"
      ]
    },
    {
      "cell_type": "code",
      "execution_count": null,
      "metadata": {
        "tags": [],
        "colab": {
          "base_uri": "https://localhost:8080/"
        },
        "id": "AEI4PA198asJ",
        "outputId": "ad495f9f-47bc-4077-f89b-1ff88b8513b1"
      },
      "outputs": [
        {
          "output_type": "stream",
          "name": "stdout",
          "text": [
            "                fit_time  score_time  train_score  test_score\n",
            "LightGBM        0.543073    0.045260     0.848262    0.813333\n",
            "CatBoost       20.060653    0.067036     0.855310    0.812905\n",
            "Random Forest   8.966982    0.138635     0.999333    0.806714\n",
            "XGBoost         0.876595    0.055616     0.887762    0.806286\n"
          ]
        }
      ],
      "source": [
        "# Placeholder for results\n",
        "results = {}\n",
        "\n",
        "# Evaluate each model\n",
        "for model_name, model in models.items():\n",
        "    pipeline = make_pipeline(preprocessor, model)  # Preprocessing pipeline\n",
        "    cv_results = cross_validate(\n",
        "        pipeline,\n",
        "        X_train,\n",
        "        y_train,\n",
        "        cv=5,\n",
        "        scoring=\"accuracy\",\n",
        "        return_train_score=True,\n",
        "        n_jobs=-1,\n",
        "    )\n",
        "    results[model_name] = {\n",
        "        \"fit_time\": cv_results[\"fit_time\"].mean(),\n",
        "        \"score_time\": cv_results[\"score_time\"].mean(),\n",
        "        \"train_score\": cv_results[\"train_score\"].mean(),\n",
        "        \"test_score\": cv_results[\"test_score\"].mean(),\n",
        "    }\n",
        "\n",
        "# Display the results\n",
        "import pandas as pd\n",
        "\n",
        "results_df = pd.DataFrame(results).T\n",
        "results_df.sort_values(\"test_score\", ascending=False, inplace=True)\n",
        "print(results_df)"
      ]
    },
    {
      "cell_type": "code",
      "source": [
        "results = {}\n",
        "\n",
        "# Evaluate each model\n",
        "for model_name, model in models.items():\n",
        "    pipeline = make_pipeline(preprocessor, model)  # Preprocessing pipeline\n",
        "    cv_results = cross_validate(\n",
        "        pipeline,\n",
        "        X_train,\n",
        "        y_train,\n",
        "        cv=5,\n",
        "        scoring=\"accuracy\",\n",
        "        return_train_score=True,\n",
        "        n_jobs=-1,\n",
        "    )\n",
        "    results[model_name] = {\n",
        "        \"fit_time\": cv_results[\"fit_time\"].mean(),\n",
        "        \"score_time\": cv_results[\"score_time\"].mean(),\n",
        "        \"train_score\": cv_results[\"train_score\"].mean(),\n",
        "        \"test_score\": cv_results[\"test_score\"].mean(),\n",
        "    }\n",
        "\n",
        "# Display the results\n",
        "results_df = pd.DataFrame(results).T\n",
        "results_df.sort_values(\"test_score\", ascending=False, inplace=True)"
      ],
      "metadata": {
        "id": "NBap3IVWSB_f"
      },
      "execution_count": null,
      "outputs": []
    },
    {
      "cell_type": "markdown",
      "metadata": {
        "id": "tj17oh_f8asJ"
      },
      "source": [
        "Best Test Performance:\n",
        "\n",
        "LightGBM achieved the highest test score (0.813), indicating it generalizes well with minimal overfitting compared to Random Forest and XGBoost.\n",
        "Overfitting:\n",
        "\n",
        "Random Forest showed significant overfitting with a near-perfect training score (0.999) and a test score of 0.807. This is likely due to its high complexity and memorization of training data.\n",
        "XGBoost also demonstrated a noticeable gap between training (0.888) and test scores (0.806), albeit less than Random Forest.\n",
        "Fit and Score Times:\n",
        "\n",
        "LightGBM was the fastest model for fitting and scoring, making it ideal for large datasets and fast experimentation.\n",
        "CatBoost had the highest fit time (20.061), which might be a concern for larger datasets or iterative tuning.\n",
        "CatBoost Strength:\n",
        "\n",
        "CatBoost performed competitively with a test score of 0.813, but its longer fit time makes it less appealing unless categorical feature handling is critical."
      ]
    },
    {
      "cell_type": "markdown",
      "metadata": {
        "deletable": false,
        "editable": false,
        "id": "ODAxPk4U8asJ"
      },
      "source": [
        "<!-- END QUESTION -->\n",
        "\n",
        "<br><br>"
      ]
    },
    {
      "cell_type": "markdown",
      "metadata": {
        "deletable": false,
        "editable": false,
        "id": "PdbvzBVQ8asJ"
      },
      "source": [
        "<!-- BEGIN QUESTION -->\n",
        "\n",
        "## 9. Feature selection <a name=\"9\"></a>\n",
        "<hr>\n",
        "rubric={points:2}\n",
        "\n",
        "**Your tasks:**\n",
        "\n",
        "Make some attempts to select relevant features. You may try `RFECV` or forward selection for this. Do the results improve with feature selection? Summarize your results. If you see improvements in the results, keep feature selection in your pipeline. If not, you may abandon it in the next exercises."
      ]
    },
    {
      "cell_type": "markdown",
      "metadata": {
        "deletable": false,
        "editable": false,
        "id": "FYT2AtA28asJ"
      },
      "source": [
        "<div class=\"alert alert-warning\">\n",
        "    \n",
        "Solution_9\n",
        "    \n",
        "</div>\n",
        "\n",
        "_Points:_ 2"
      ]
    },
    {
      "cell_type": "markdown",
      "metadata": {
        "id": "1J_bOTr28asJ"
      },
      "source": [
        "_Type your answer here, replacing this text._"
      ]
    },
    {
      "cell_type": "code",
      "execution_count": null,
      "metadata": {
        "tags": [],
        "id": "8Qi4eQp48asJ"
      },
      "outputs": [],
      "source": [
        "from sklearn.feature_selection import RFECV\n"
      ]
    },
    {
      "cell_type": "code",
      "execution_count": null,
      "metadata": {
        "tags": [],
        "id": "PcdF_lu08asJ"
      },
      "outputs": [],
      "source": [
        "model = LogisticRegression(max_iter=1000, random_state=123)\n",
        "\n",
        "# Create a pipeline with preprocessor and the model\n",
        "pipeline = Pipeline([\n",
        "    ('preprocessor', preprocessor),\n",
        "    ('model', model)\n",
        "])\n"
      ]
    },
    {
      "cell_type": "code",
      "execution_count": null,
      "metadata": {
        "colab": {
          "base_uri": "https://localhost:8080/"
        },
        "id": "8yEOf5SX8asJ",
        "outputId": "17187803-9f01-464d-e39e-4c0b63bfab17"
      },
      "outputs": [
        {
          "output_type": "stream",
          "name": "stdout",
          "text": [
            "Selected Features: [ True False False  True False  True False False  True False  True  True\n",
            "  True  True  True  True  True]\n"
          ]
        }
      ],
      "source": [
        "rfecv = RFECV(estimator=model, step=1, cv=5, scoring='accuracy', n_jobs=-1)\n",
        "rfecv_pipeline = Pipeline([\n",
        "    ('preprocessor', preprocessor),\n",
        "    ('rfecv', rfecv)\n",
        "])\n",
        "\n",
        "# Fit RFECV\n",
        "rfecv_pipeline.fit(X_train, y_train)\n",
        "\n",
        "# Extract selected features\n",
        "selected_features = rfecv.support_\n",
        "print(\"Selected Features:\", selected_features)\n"
      ]
    },
    {
      "cell_type": "code",
      "execution_count": null,
      "metadata": {
        "colab": {
          "base_uri": "https://localhost:8080/"
        },
        "id": "zCYmns4k8asJ",
        "outputId": "1bd29c4e-0a1d-43a8-eb42-bfe5fa20f268"
      },
      "outputs": [
        {
          "output_type": "stream",
          "name": "stdout",
          "text": [
            "Mean CV Accuracy with Feature Selection: 0.8069\n",
            "Train Scores: 0.8075\n"
          ]
        }
      ],
      "source": [
        "cv_scores = cross_validate(\n",
        "    rfecv_pipeline,\n",
        "    X_train,\n",
        "    y_train,\n",
        "    cv=5,\n",
        "    scoring='accuracy',\n",
        "    return_train_score=True\n",
        ")\n",
        "\n",
        "# Summarize Results\n",
        "print(f\"Mean CV Accuracy with Feature Selection: {cv_scores['test_score'].mean():.4f}\")\n",
        "print(f\"Train Scores: {cv_scores['train_score'].mean():.4f}\")\n"
      ]
    },
    {
      "cell_type": "code",
      "execution_count": null,
      "metadata": {
        "colab": {
          "base_uri": "https://localhost:8080/"
        },
        "id": "NiXhAyQQ8asJ",
        "outputId": "205c8608-d784-4745-f33d-65236b787cb6"
      },
      "outputs": [
        {
          "output_type": "stream",
          "name": "stdout",
          "text": [
            "Mean CV Accuracy without Feature Selection: 0.8073\n",
            "Train Scores: 0.8081\n"
          ]
        }
      ],
      "source": [
        "baseline_pipeline = Pipeline([\n",
        "    ('preprocessor', preprocessor),\n",
        "    ('model', model)\n",
        "])\n",
        "\n",
        "baseline_scores = cross_validate(\n",
        "    baseline_pipeline,\n",
        "    X_train,\n",
        "    y_train,\n",
        "    cv=5,\n",
        "    scoring='accuracy',\n",
        "    return_train_score=True\n",
        ")\n",
        "\n",
        "print(f\"Mean CV Accuracy without Feature Selection: {baseline_scores['test_score'].mean():.4f}\")\n",
        "print(f\"Train Scores: {baseline_scores['train_score'].mean():.4f}\")"
      ]
    },
    {
      "cell_type": "code",
      "source": [
        "original_feature_names = numeric_features + ordinal_features + binary_features\n",
        "\n",
        "selected_feature_names = [name for name, selected in zip(original_feature_names, selected_features) if selected]\n",
        "\n",
        "print(\"Selected Feature Names:\", selected_feature_names)\n"
      ],
      "metadata": {
        "colab": {
          "base_uri": "https://localhost:8080/"
        },
        "id": "jH_TxdeDeyV0",
        "outputId": "a1a0fc4f-7e1b-4f58-aef7-378c95088a70"
      },
      "execution_count": null,
      "outputs": [
        {
          "output_type": "stream",
          "name": "stdout",
          "text": [
            "Selected Feature Names: ['LIMIT_BAL', 'TOTAL_PAYMENT', 'AVG_PAYMENT', 'AGE_BINNED', 'MARRIAGE', 'DELAYED_PAYMENT_1', 'DELAYED_PAYMENT_2', 'DELAYED_PAYMENT_3', 'DELAYED_PAYMENT_4', 'DELAYED_PAYMENT_5', 'DELAYED_PAYMENT_6']\n"
          ]
        }
      ]
    },
    {
      "cell_type": "markdown",
      "metadata": {
        "deletable": false,
        "editable": false,
        "id": "2hW4TmJ68asJ"
      },
      "source": [
        "<!-- END QUESTION -->\n",
        "\n",
        "<br><br>"
      ]
    },
    {
      "cell_type": "markdown",
      "metadata": {
        "deletable": false,
        "editable": false,
        "jp-MarkdownHeadingCollapsed": true,
        "id": "V6aqWA698asJ"
      },
      "source": [
        "<!-- BEGIN QUESTION -->\n",
        "\n",
        "## 10. Hyperparameter optimization <a name=\"10\"></a>\n",
        "<hr>\n",
        "rubric={points:10}\n",
        "\n",
        "**Your tasks:**\n",
        "\n",
        "Make some attempts to optimize hyperparameters for the models you've tried and summarize your results. In at least one case you should be optimizing multiple hyperparameters for a single model. You may use `sklearn`'s methods for hyperparameter optimization or fancier Bayesian optimization methods.\n",
        "  - [GridSearchCV](http://scikit-learn.org/stable/modules/generated/sklearn.model_selection.GridSearchCV.html)   \n",
        "  - [RandomizedSearchCV](http://scikit-learn.org/stable/modules/generated/sklearn.model_selection.RandomizedSearchCV.html)\n",
        "  - [scikit-optimize](https://github.com/scikit-optimize/scikit-optimize)"
      ]
    },
    {
      "cell_type": "markdown",
      "metadata": {
        "deletable": false,
        "editable": false,
        "id": "unQgkmlk8asJ"
      },
      "source": [
        "<div class=\"alert alert-warning\">\n",
        "    \n",
        "Solution_10\n",
        "    \n",
        "</div>\n",
        "\n",
        "_Points:_ 10"
      ]
    },
    {
      "cell_type": "markdown",
      "metadata": {
        "id": "3VUZEWIN8asJ"
      },
      "source": [
        "_Type your answer here, replacing this text._"
      ]
    },
    {
      "cell_type": "code",
      "execution_count": null,
      "metadata": {
        "tags": [],
        "id": "Ycs8K3xu8asJ"
      },
      "outputs": [],
      "source": [
        "from sklearn.model_selection import GridSearchCV, RandomizedSearchCV\n",
        "from lightgbm import LGBMClassifier\n",
        "from xgboost import XGBClassifier\n",
        "import numpy as np"
      ]
    },
    {
      "cell_type": "code",
      "source": [
        "from sklearn.metrics import accuracy_score, roc_auc_score, classification_report\n"
      ],
      "metadata": {
        "id": "tw9lOKiTinR_"
      },
      "execution_count": null,
      "outputs": []
    },
    {
      "cell_type": "code",
      "source": [
        "# Define hyperparameter grid for LightGBM\n",
        "lgbm_param_grid = {\n",
        "    'learning_rate': [0.01, 0.05, 0.1],\n",
        "    'n_estimators': [50, 100, 200],\n",
        "    'max_depth': [3, 5, 10],\n",
        "    'num_leaves': [15, 31, 63]\n",
        "}\n",
        "\n",
        "# Define hyperparameter grid for XGBoost\n",
        "xgb_param_grid = {\n",
        "    'learning_rate': [0.01, 0.05, 0.1],\n",
        "    'n_estimators': [50, 100, 200],\n",
        "    'max_depth': [3, 5, 10],\n",
        "    'subsample': [0.7, 0.8, 1.0],\n",
        "    'colsample_bytree': [0.7, 0.8, 1.0]\n",
        "}"
      ],
      "metadata": {
        "id": "jRRBZDcUe-Vg"
      },
      "execution_count": null,
      "outputs": []
    },
    {
      "cell_type": "code",
      "source": [
        "# Define LightGBM model\n",
        "lgbm = LGBMClassifier(random_state=123)\n",
        "\n",
        "# Grid Search for LightGBM\n",
        "lgbm_grid_search = GridSearchCV(\n",
        "    estimator=lgbm,\n",
        "    param_grid=lgbm_param_grid,\n",
        "    cv=3,\n",
        "    scoring='accuracy',\n",
        "    verbose=1,\n",
        "    n_jobs=-1\n",
        ")\n"
      ],
      "metadata": {
        "id": "3nheI-07e_4N"
      },
      "execution_count": null,
      "outputs": []
    },
    {
      "cell_type": "code",
      "source": [
        "# Define XGBoost model\n",
        "xgb = XGBClassifier(use_label_encoder=False, eval_metric='logloss', random_state=123)\n",
        "\n",
        "# Randomized Search for XGBoost\n",
        "xgb_random_search = RandomizedSearchCV(\n",
        "    estimator=xgb,\n",
        "    param_distributions=xgb_param_grid,\n",
        "    n_iter=20,  # Number of random combinations\n",
        "    cv=3,\n",
        "    scoring='accuracy',\n",
        "    verbose=1,\n",
        "    random_state=123,\n",
        "    n_jobs=-1\n",
        ")"
      ],
      "metadata": {
        "id": "4nntG-5yfBYZ"
      },
      "execution_count": null,
      "outputs": []
    },
    {
      "cell_type": "code",
      "source": [
        "# Fit GridSearchCV for LightGBM\n",
        "lgbm_grid_search.fit(X_train, y_train)\n",
        "\n",
        "# Best parameters and scores\n",
        "print(\"Best LightGBM Parameters:\", lgbm_grid_search.best_params_)\n",
        "print(\"Best LightGBM Score:\", lgbm_grid_search.best_score_)"
      ],
      "metadata": {
        "colab": {
          "base_uri": "https://localhost:8080/"
        },
        "id": "_ARWIbOlfDED",
        "outputId": "802e3f61-fbba-4a7f-d8dd-dfdf3647e85d"
      },
      "execution_count": null,
      "outputs": [
        {
          "output_type": "stream",
          "name": "stdout",
          "text": [
            "Fitting 3 folds for each of 81 candidates, totalling 243 fits\n",
            "[LightGBM] [Info] Number of positive: 4676, number of negative: 16324\n",
            "[LightGBM] [Info] Auto-choosing row-wise multi-threading, the overhead of testing was 0.006030 seconds.\n",
            "You can set `force_row_wise=true` to remove the overhead.\n",
            "And if memory is not enough, you can set `force_col_wise=true`.\n",
            "[LightGBM] [Info] Total Bins 6595\n",
            "[LightGBM] [Info] Number of data points in the train set: 21000, number of used features: 43\n",
            "[LightGBM] [Info] [binary:BoostFromScore]: pavg=0.222667 -> initscore=-1.250193\n",
            "[LightGBM] [Info] Start training from score -1.250193\n",
            "Best LightGBM Parameters: {'learning_rate': 0.01, 'max_depth': 10, 'n_estimators': 200, 'num_leaves': 15}\n",
            "Best LightGBM Score: 0.8210000000000001\n"
          ]
        }
      ]
    },
    {
      "cell_type": "code",
      "source": [
        "# Define XGBoost model\n",
        "xgb = XGBClassifier(use_label_encoder=False, eval_metric='logloss', random_state=123, enable_categorical=True) # Added enable_categorical=True\n",
        "\n",
        "# Randomized Search for XGBoost\n",
        "xgb_random_search = RandomizedSearchCV(\n",
        "    estimator=xgb,\n",
        "    param_distributions=xgb_param_grid,\n",
        "    n_iter=20,  # Number of random combinations\n",
        "    cv=3,\n",
        "    scoring='accuracy',\n",
        "    verbose=1,\n",
        "    random_state=123,\n",
        "    n_jobs=-1\n",
        ")\n",
        "# Fit RandomizedSearchCV for XGBoost\n",
        "xgb_random_search.fit(X_train, y_train)\n",
        "print(\"Best XGBoost Parameters:\", xgb_random_search.best_params_)\n",
        "print(\"Best XGBoost Score:\", xgb_random_search.best_score_)"
      ],
      "metadata": {
        "colab": {
          "base_uri": "https://localhost:8080/"
        },
        "id": "Y1N4yHGjf6nZ",
        "outputId": "2a779771-ff0d-456e-ad9e-1ccd3d05b216"
      },
      "execution_count": null,
      "outputs": [
        {
          "output_type": "stream",
          "name": "stdout",
          "text": [
            "Fitting 3 folds for each of 20 candidates, totalling 60 fits\n"
          ]
        },
        {
          "output_type": "stream",
          "name": "stderr",
          "text": [
            "/usr/local/lib/python3.10/dist-packages/xgboost/core.py:158: UserWarning: [03:44:59] WARNING: /workspace/src/learner.cc:740: \n",
            "Parameters: { \"use_label_encoder\" } are not used.\n",
            "\n",
            "  warnings.warn(smsg, UserWarning)\n"
          ]
        },
        {
          "output_type": "stream",
          "name": "stdout",
          "text": [
            "Best XGBoost Parameters: {'subsample': 0.8, 'n_estimators': 100, 'max_depth': 3, 'learning_rate': 0.05, 'colsample_bytree': 0.7}\n",
            "Best XGBoost Score: 0.8217619047619048\n"
          ]
        }
      ]
    },
    {
      "cell_type": "markdown",
      "source": [
        "LightGBM:\n",
        "\n",
        "Achieved a competitive score of 0.821.\n",
        "The parameters suggest that deeper trees (max_depth=10) with a controlled learning rate (learning_rate=0.01) and many boosting rounds (n_estimators=200) work well.\n",
        "XGBoost:\n",
        "\n",
        "Slightly better score (0.822) than LightGBM, likely due to careful tuning of subsampling (subsample=0.8) and feature usage (colsample_bytree=0.7).\n",
        "Shallow trees (max_depth=3) suggest less risk of overfitting.\n",
        "Overall Performance:\n",
        "\n",
        "Both models achieved a similar optimized score, with XGBoost slightly edging ahead.\n",
        "Both models likely benefit from further feature engineering and ensembling."
      ],
      "metadata": {
        "id": "lRcEv0tvhkEa"
      }
    },
    {
      "cell_type": "code",
      "source": [
        "# Define optimized models\n",
        "optimized_lgbm = LGBMClassifier(\n",
        "    learning_rate=0.01,\n",
        "    max_depth=10,\n",
        "    n_estimators=200,\n",
        "    num_leaves=15,\n",
        "    random_state=123\n",
        ")\n",
        "\n",
        "optimized_xgb = XGBClassifier(\n",
        "    subsample=0.8,\n",
        "    n_estimators=100,\n",
        "    max_depth=3,\n",
        "    learning_rate=0.05,\n",
        "    colsample_bytree=0.7,\n",
        "    use_label_encoder=False,\n",
        "    eval_metric='logloss',\n",
        "    random_state=123\n",
        ")\n"
      ],
      "metadata": {
        "id": "1ps89EI2iQ8E"
      },
      "execution_count": null,
      "outputs": []
    },
    {
      "cell_type": "code",
      "source": [
        "optimized_lgbm.fit(X_train, y_train)\n",
        "lgbm_preds = optimized_lgbm.predict(X_test)\n",
        "lgbm_probs = optimized_lgbm.predict_proba(X_test)[:, 1]"
      ],
      "metadata": {
        "colab": {
          "base_uri": "https://localhost:8080/"
        },
        "id": "yKv6e7_riVjL",
        "outputId": "e454089a-6640-4267-e025-686ec65354fd"
      },
      "execution_count": null,
      "outputs": [
        {
          "output_type": "stream",
          "name": "stdout",
          "text": [
            "[LightGBM] [Info] Number of positive: 4676, number of negative: 16324\n",
            "[LightGBM] [Info] Auto-choosing row-wise multi-threading, the overhead of testing was 0.004351 seconds.\n",
            "You can set `force_row_wise=true` to remove the overhead.\n",
            "And if memory is not enough, you can set `force_col_wise=true`.\n",
            "[LightGBM] [Info] Total Bins 6595\n",
            "[LightGBM] [Info] Number of data points in the train set: 21000, number of used features: 43\n",
            "[LightGBM] [Info] [binary:BoostFromScore]: pavg=0.222667 -> initscore=-1.250193\n",
            "[LightGBM] [Info] Start training from score -1.250193\n"
          ]
        }
      ]
    },
    {
      "cell_type": "code",
      "source": [
        "# Define XGBoost model with enable_categorical=True\n",
        "optimized_xgb = XGBClassifier(\n",
        "    subsample=0.8,\n",
        "    n_estimators=100,\n",
        "    max_depth=3,\n",
        "    learning_rate=0.05,\n",
        "    colsample_bytree=0.7,\n",
        "    use_label_encoder=False,  # This parameter is deprecated\n",
        "    eval_metric='logloss',\n",
        "    random_state=123,\n",
        "    enable_categorical=True  # Enable categorical data handling\n",
        ")"
      ],
      "metadata": {
        "id": "cSwjmhxXigDo"
      },
      "execution_count": null,
      "outputs": []
    },
    {
      "cell_type": "code",
      "source": [
        "optimized_xgb.fit(X_train, y_train)\n",
        "xgb_preds = optimized_xgb.predict(X_test)\n",
        "xgb_probs = optimized_xgb.predict_proba(X_test)[:, 1]\n"
      ],
      "metadata": {
        "colab": {
          "base_uri": "https://localhost:8080/"
        },
        "id": "YgPTZD88iXXx",
        "outputId": "dfe4ad52-c17d-41d6-f341-0f75f0752c56"
      },
      "execution_count": null,
      "outputs": [
        {
          "output_type": "stream",
          "name": "stderr",
          "text": [
            "/usr/local/lib/python3.10/dist-packages/xgboost/core.py:158: UserWarning: [03:50:18] WARNING: /workspace/src/learner.cc:740: \n",
            "Parameters: { \"use_label_encoder\" } are not used.\n",
            "\n",
            "  warnings.warn(smsg, UserWarning)\n"
          ]
        }
      ]
    },
    {
      "cell_type": "code",
      "source": [
        "print(\"LightGBM Classification Report:\")\n",
        "print(classification_report(y_test, lgbm_preds))\n",
        "print(\"LightGBM AUC-ROC:\", roc_auc_score(y_test, lgbm_probs))\n"
      ],
      "metadata": {
        "colab": {
          "base_uri": "https://localhost:8080/"
        },
        "id": "w6ajdX6eiZA7",
        "outputId": "ee988888-57de-4233-8616-76e3be1eb664"
      },
      "execution_count": null,
      "outputs": [
        {
          "output_type": "stream",
          "name": "stdout",
          "text": [
            "LightGBM Classification Report:\n",
            "              precision    recall  f1-score   support\n",
            "\n",
            "           0       0.84      0.96      0.89      7040\n",
            "           1       0.70      0.32      0.44      1960\n",
            "\n",
            "    accuracy                           0.82      9000\n",
            "   macro avg       0.77      0.64      0.67      9000\n",
            "weighted avg       0.80      0.82      0.79      9000\n",
            "\n",
            "LightGBM AUC-ROC: 0.7776204849837662\n"
          ]
        }
      ]
    },
    {
      "cell_type": "code",
      "source": [
        "print(\"XGBoost Classification Report:\")\n",
        "print(classification_report(y_test, xgb_preds))\n",
        "print(\"XGBoost AUC-ROC:\", roc_auc_score(y_test, xgb_probs))"
      ],
      "metadata": {
        "colab": {
          "base_uri": "https://localhost:8080/"
        },
        "id": "zREf43nkirJD",
        "outputId": "29f319c6-58f9-4238-d5f3-ddcdb7fd46b3"
      },
      "execution_count": null,
      "outputs": [
        {
          "output_type": "stream",
          "name": "stdout",
          "text": [
            "XGBoost Classification Report:\n",
            "              precision    recall  f1-score   support\n",
            "\n",
            "           0       0.84      0.95      0.89      7040\n",
            "           1       0.67      0.35      0.46      1960\n",
            "\n",
            "    accuracy                           0.82      9000\n",
            "   macro avg       0.76      0.65      0.68      9000\n",
            "weighted avg       0.80      0.82      0.80      9000\n",
            "\n",
            "XGBoost AUC-ROC: 0.778423983940167\n"
          ]
        }
      ]
    },
    {
      "cell_type": "markdown",
      "source": [
        "Final Evaluation Summary\n",
        "\n",
        "**LightGBM** Performance\n",
        "Classification Report:\n",
        "\n",
        "Precision: 0.70 for the minority class (1).\n",
        "\n",
        "Recall: 0.32 for the minority class indicates the model struggles with identifying all positives.\n",
        "\n",
        "F1-Score: 0.44 for class 1 indicates room for improvement.\n",
        "\n",
        "Accuracy: 0.82 overall.\n",
        "\n",
        "Macro Average: A lower score (0.67) due to imbalanced recall across classes.\n",
        "\n",
        "AUC-ROC: 0.7776 indicates moderate ability to rank predictions.\n",
        "\n",
        "**XGBoost** Performance\n",
        "Classification Report:\n",
        "\n",
        "Precision: 0.67 for the minority class (1), slightly lower than LightGBM.\n",
        "\n",
        "Recall: 0.35 for the minority class, marginally better than LightGBM.\n",
        "\n",
        "F1-Score: 0.46 for class 1, better than LightGBM.\n",
        "\n",
        "Accuracy: 0.82, identical to LightGBM.\n",
        "\n",
        "Macro Average: 0.68, slightly better than LightGBM.\n",
        "\n",
        "AUC-ROC: 0.7784, slightly higher than LightGBM.\n"
      ],
      "metadata": {
        "id": "duJJg1dNjFS0"
      }
    },
    {
      "cell_type": "markdown",
      "metadata": {
        "deletable": false,
        "editable": false,
        "id": "Dj17xDyG8asK"
      },
      "source": [
        "<!-- END QUESTION -->\n",
        "\n",
        "<br><br>"
      ]
    },
    {
      "cell_type": "markdown",
      "metadata": {
        "deletable": false,
        "editable": false,
        "jp-MarkdownHeadingCollapsed": true,
        "id": "0X9vCk0-8asK"
      },
      "source": [
        "<!-- BEGIN QUESTION -->\n",
        "\n",
        "## 11. Interpretation and feature importances <a name=\"1\"></a>\n",
        "<hr>\n",
        "rubric={points:10}\n",
        "\n",
        "**Your tasks:**\n",
        "\n",
        "1. Use the methods we saw in class (e.g., `shap`) (or any other methods of your choice) to examine the most important features of one of the non-linear models.\n",
        "2. Summarize your observations."
      ]
    },
    {
      "cell_type": "markdown",
      "metadata": {
        "deletable": false,
        "editable": false,
        "id": "-F9a7lAz8asK"
      },
      "source": [
        "<div class=\"alert alert-warning\">\n",
        "    \n",
        "Solution_11\n",
        "    \n",
        "</div>\n",
        "\n",
        "_Points:_ 10"
      ]
    },
    {
      "cell_type": "markdown",
      "metadata": {
        "id": "bY8H9yal8asK"
      },
      "source": [
        "_Type your answer here, replacing this text._"
      ]
    },
    {
      "cell_type": "code",
      "execution_count": null,
      "metadata": {
        "tags": [],
        "id": "gvlNJ5Eg8asK"
      },
      "outputs": [],
      "source": [
        "import shap\n",
        "import matplotlib.pyplot as plt"
      ]
    },
    {
      "cell_type": "code",
      "execution_count": null,
      "metadata": {
        "tags": [],
        "colab": {
          "base_uri": "https://localhost:8080/",
          "height": 261
        },
        "id": "KGOuR6-s8asK",
        "outputId": "b0d6b3a4-fbdc-4b7b-cfa1-2e25e8b12bb1"
      },
      "outputs": [
        {
          "output_type": "stream",
          "name": "stdout",
          "text": [
            "[LightGBM] [Info] Number of positive: 4676, number of negative: 16324\n",
            "[LightGBM] [Info] Auto-choosing row-wise multi-threading, the overhead of testing was 0.004579 seconds.\n",
            "You can set `force_row_wise=true` to remove the overhead.\n",
            "And if memory is not enough, you can set `force_col_wise=true`.\n",
            "[LightGBM] [Info] Total Bins 6595\n",
            "[LightGBM] [Info] Number of data points in the train set: 21000, number of used features: 43\n",
            "[LightGBM] [Info] [binary:BoostFromScore]: pavg=0.222667 -> initscore=-1.250193\n",
            "[LightGBM] [Info] Start training from score -1.250193\n"
          ]
        },
        {
          "output_type": "execute_result",
          "data": {
            "text/plain": [
              "LGBMClassifier(learning_rate=0.01, max_depth=10, n_estimators=200,\n",
              "               num_leaves=15, random_state=123)"
            ],
            "text/html": [
              "<style>#sk-container-id-1 {\n",
              "  /* Definition of color scheme common for light and dark mode */\n",
              "  --sklearn-color-text: black;\n",
              "  --sklearn-color-line: gray;\n",
              "  /* Definition of color scheme for unfitted estimators */\n",
              "  --sklearn-color-unfitted-level-0: #fff5e6;\n",
              "  --sklearn-color-unfitted-level-1: #f6e4d2;\n",
              "  --sklearn-color-unfitted-level-2: #ffe0b3;\n",
              "  --sklearn-color-unfitted-level-3: chocolate;\n",
              "  /* Definition of color scheme for fitted estimators */\n",
              "  --sklearn-color-fitted-level-0: #f0f8ff;\n",
              "  --sklearn-color-fitted-level-1: #d4ebff;\n",
              "  --sklearn-color-fitted-level-2: #b3dbfd;\n",
              "  --sklearn-color-fitted-level-3: cornflowerblue;\n",
              "\n",
              "  /* Specific color for light theme */\n",
              "  --sklearn-color-text-on-default-background: var(--sg-text-color, var(--theme-code-foreground, var(--jp-content-font-color1, black)));\n",
              "  --sklearn-color-background: var(--sg-background-color, var(--theme-background, var(--jp-layout-color0, white)));\n",
              "  --sklearn-color-border-box: var(--sg-text-color, var(--theme-code-foreground, var(--jp-content-font-color1, black)));\n",
              "  --sklearn-color-icon: #696969;\n",
              "\n",
              "  @media (prefers-color-scheme: dark) {\n",
              "    /* Redefinition of color scheme for dark theme */\n",
              "    --sklearn-color-text-on-default-background: var(--sg-text-color, var(--theme-code-foreground, var(--jp-content-font-color1, white)));\n",
              "    --sklearn-color-background: var(--sg-background-color, var(--theme-background, var(--jp-layout-color0, #111)));\n",
              "    --sklearn-color-border-box: var(--sg-text-color, var(--theme-code-foreground, var(--jp-content-font-color1, white)));\n",
              "    --sklearn-color-icon: #878787;\n",
              "  }\n",
              "}\n",
              "\n",
              "#sk-container-id-1 {\n",
              "  color: var(--sklearn-color-text);\n",
              "}\n",
              "\n",
              "#sk-container-id-1 pre {\n",
              "  padding: 0;\n",
              "}\n",
              "\n",
              "#sk-container-id-1 input.sk-hidden--visually {\n",
              "  border: 0;\n",
              "  clip: rect(1px 1px 1px 1px);\n",
              "  clip: rect(1px, 1px, 1px, 1px);\n",
              "  height: 1px;\n",
              "  margin: -1px;\n",
              "  overflow: hidden;\n",
              "  padding: 0;\n",
              "  position: absolute;\n",
              "  width: 1px;\n",
              "}\n",
              "\n",
              "#sk-container-id-1 div.sk-dashed-wrapped {\n",
              "  border: 1px dashed var(--sklearn-color-line);\n",
              "  margin: 0 0.4em 0.5em 0.4em;\n",
              "  box-sizing: border-box;\n",
              "  padding-bottom: 0.4em;\n",
              "  background-color: var(--sklearn-color-background);\n",
              "}\n",
              "\n",
              "#sk-container-id-1 div.sk-container {\n",
              "  /* jupyter's `normalize.less` sets `[hidden] { display: none; }`\n",
              "     but bootstrap.min.css set `[hidden] { display: none !important; }`\n",
              "     so we also need the `!important` here to be able to override the\n",
              "     default hidden behavior on the sphinx rendered scikit-learn.org.\n",
              "     See: https://github.com/scikit-learn/scikit-learn/issues/21755 */\n",
              "  display: inline-block !important;\n",
              "  position: relative;\n",
              "}\n",
              "\n",
              "#sk-container-id-1 div.sk-text-repr-fallback {\n",
              "  display: none;\n",
              "}\n",
              "\n",
              "div.sk-parallel-item,\n",
              "div.sk-serial,\n",
              "div.sk-item {\n",
              "  /* draw centered vertical line to link estimators */\n",
              "  background-image: linear-gradient(var(--sklearn-color-text-on-default-background), var(--sklearn-color-text-on-default-background));\n",
              "  background-size: 2px 100%;\n",
              "  background-repeat: no-repeat;\n",
              "  background-position: center center;\n",
              "}\n",
              "\n",
              "/* Parallel-specific style estimator block */\n",
              "\n",
              "#sk-container-id-1 div.sk-parallel-item::after {\n",
              "  content: \"\";\n",
              "  width: 100%;\n",
              "  border-bottom: 2px solid var(--sklearn-color-text-on-default-background);\n",
              "  flex-grow: 1;\n",
              "}\n",
              "\n",
              "#sk-container-id-1 div.sk-parallel {\n",
              "  display: flex;\n",
              "  align-items: stretch;\n",
              "  justify-content: center;\n",
              "  background-color: var(--sklearn-color-background);\n",
              "  position: relative;\n",
              "}\n",
              "\n",
              "#sk-container-id-1 div.sk-parallel-item {\n",
              "  display: flex;\n",
              "  flex-direction: column;\n",
              "}\n",
              "\n",
              "#sk-container-id-1 div.sk-parallel-item:first-child::after {\n",
              "  align-self: flex-end;\n",
              "  width: 50%;\n",
              "}\n",
              "\n",
              "#sk-container-id-1 div.sk-parallel-item:last-child::after {\n",
              "  align-self: flex-start;\n",
              "  width: 50%;\n",
              "}\n",
              "\n",
              "#sk-container-id-1 div.sk-parallel-item:only-child::after {\n",
              "  width: 0;\n",
              "}\n",
              "\n",
              "/* Serial-specific style estimator block */\n",
              "\n",
              "#sk-container-id-1 div.sk-serial {\n",
              "  display: flex;\n",
              "  flex-direction: column;\n",
              "  align-items: center;\n",
              "  background-color: var(--sklearn-color-background);\n",
              "  padding-right: 1em;\n",
              "  padding-left: 1em;\n",
              "}\n",
              "\n",
              "\n",
              "/* Toggleable style: style used for estimator/Pipeline/ColumnTransformer box that is\n",
              "clickable and can be expanded/collapsed.\n",
              "- Pipeline and ColumnTransformer use this feature and define the default style\n",
              "- Estimators will overwrite some part of the style using the `sk-estimator` class\n",
              "*/\n",
              "\n",
              "/* Pipeline and ColumnTransformer style (default) */\n",
              "\n",
              "#sk-container-id-1 div.sk-toggleable {\n",
              "  /* Default theme specific background. It is overwritten whether we have a\n",
              "  specific estimator or a Pipeline/ColumnTransformer */\n",
              "  background-color: var(--sklearn-color-background);\n",
              "}\n",
              "\n",
              "/* Toggleable label */\n",
              "#sk-container-id-1 label.sk-toggleable__label {\n",
              "  cursor: pointer;\n",
              "  display: block;\n",
              "  width: 100%;\n",
              "  margin-bottom: 0;\n",
              "  padding: 0.5em;\n",
              "  box-sizing: border-box;\n",
              "  text-align: center;\n",
              "}\n",
              "\n",
              "#sk-container-id-1 label.sk-toggleable__label-arrow:before {\n",
              "  /* Arrow on the left of the label */\n",
              "  content: \"▸\";\n",
              "  float: left;\n",
              "  margin-right: 0.25em;\n",
              "  color: var(--sklearn-color-icon);\n",
              "}\n",
              "\n",
              "#sk-container-id-1 label.sk-toggleable__label-arrow:hover:before {\n",
              "  color: var(--sklearn-color-text);\n",
              "}\n",
              "\n",
              "/* Toggleable content - dropdown */\n",
              "\n",
              "#sk-container-id-1 div.sk-toggleable__content {\n",
              "  max-height: 0;\n",
              "  max-width: 0;\n",
              "  overflow: hidden;\n",
              "  text-align: left;\n",
              "  /* unfitted */\n",
              "  background-color: var(--sklearn-color-unfitted-level-0);\n",
              "}\n",
              "\n",
              "#sk-container-id-1 div.sk-toggleable__content.fitted {\n",
              "  /* fitted */\n",
              "  background-color: var(--sklearn-color-fitted-level-0);\n",
              "}\n",
              "\n",
              "#sk-container-id-1 div.sk-toggleable__content pre {\n",
              "  margin: 0.2em;\n",
              "  border-radius: 0.25em;\n",
              "  color: var(--sklearn-color-text);\n",
              "  /* unfitted */\n",
              "  background-color: var(--sklearn-color-unfitted-level-0);\n",
              "}\n",
              "\n",
              "#sk-container-id-1 div.sk-toggleable__content.fitted pre {\n",
              "  /* unfitted */\n",
              "  background-color: var(--sklearn-color-fitted-level-0);\n",
              "}\n",
              "\n",
              "#sk-container-id-1 input.sk-toggleable__control:checked~div.sk-toggleable__content {\n",
              "  /* Expand drop-down */\n",
              "  max-height: 200px;\n",
              "  max-width: 100%;\n",
              "  overflow: auto;\n",
              "}\n",
              "\n",
              "#sk-container-id-1 input.sk-toggleable__control:checked~label.sk-toggleable__label-arrow:before {\n",
              "  content: \"▾\";\n",
              "}\n",
              "\n",
              "/* Pipeline/ColumnTransformer-specific style */\n",
              "\n",
              "#sk-container-id-1 div.sk-label input.sk-toggleable__control:checked~label.sk-toggleable__label {\n",
              "  color: var(--sklearn-color-text);\n",
              "  background-color: var(--sklearn-color-unfitted-level-2);\n",
              "}\n",
              "\n",
              "#sk-container-id-1 div.sk-label.fitted input.sk-toggleable__control:checked~label.sk-toggleable__label {\n",
              "  background-color: var(--sklearn-color-fitted-level-2);\n",
              "}\n",
              "\n",
              "/* Estimator-specific style */\n",
              "\n",
              "/* Colorize estimator box */\n",
              "#sk-container-id-1 div.sk-estimator input.sk-toggleable__control:checked~label.sk-toggleable__label {\n",
              "  /* unfitted */\n",
              "  background-color: var(--sklearn-color-unfitted-level-2);\n",
              "}\n",
              "\n",
              "#sk-container-id-1 div.sk-estimator.fitted input.sk-toggleable__control:checked~label.sk-toggleable__label {\n",
              "  /* fitted */\n",
              "  background-color: var(--sklearn-color-fitted-level-2);\n",
              "}\n",
              "\n",
              "#sk-container-id-1 div.sk-label label.sk-toggleable__label,\n",
              "#sk-container-id-1 div.sk-label label {\n",
              "  /* The background is the default theme color */\n",
              "  color: var(--sklearn-color-text-on-default-background);\n",
              "}\n",
              "\n",
              "/* On hover, darken the color of the background */\n",
              "#sk-container-id-1 div.sk-label:hover label.sk-toggleable__label {\n",
              "  color: var(--sklearn-color-text);\n",
              "  background-color: var(--sklearn-color-unfitted-level-2);\n",
              "}\n",
              "\n",
              "/* Label box, darken color on hover, fitted */\n",
              "#sk-container-id-1 div.sk-label.fitted:hover label.sk-toggleable__label.fitted {\n",
              "  color: var(--sklearn-color-text);\n",
              "  background-color: var(--sklearn-color-fitted-level-2);\n",
              "}\n",
              "\n",
              "/* Estimator label */\n",
              "\n",
              "#sk-container-id-1 div.sk-label label {\n",
              "  font-family: monospace;\n",
              "  font-weight: bold;\n",
              "  display: inline-block;\n",
              "  line-height: 1.2em;\n",
              "}\n",
              "\n",
              "#sk-container-id-1 div.sk-label-container {\n",
              "  text-align: center;\n",
              "}\n",
              "\n",
              "/* Estimator-specific */\n",
              "#sk-container-id-1 div.sk-estimator {\n",
              "  font-family: monospace;\n",
              "  border: 1px dotted var(--sklearn-color-border-box);\n",
              "  border-radius: 0.25em;\n",
              "  box-sizing: border-box;\n",
              "  margin-bottom: 0.5em;\n",
              "  /* unfitted */\n",
              "  background-color: var(--sklearn-color-unfitted-level-0);\n",
              "}\n",
              "\n",
              "#sk-container-id-1 div.sk-estimator.fitted {\n",
              "  /* fitted */\n",
              "  background-color: var(--sklearn-color-fitted-level-0);\n",
              "}\n",
              "\n",
              "/* on hover */\n",
              "#sk-container-id-1 div.sk-estimator:hover {\n",
              "  /* unfitted */\n",
              "  background-color: var(--sklearn-color-unfitted-level-2);\n",
              "}\n",
              "\n",
              "#sk-container-id-1 div.sk-estimator.fitted:hover {\n",
              "  /* fitted */\n",
              "  background-color: var(--sklearn-color-fitted-level-2);\n",
              "}\n",
              "\n",
              "/* Specification for estimator info (e.g. \"i\" and \"?\") */\n",
              "\n",
              "/* Common style for \"i\" and \"?\" */\n",
              "\n",
              ".sk-estimator-doc-link,\n",
              "a:link.sk-estimator-doc-link,\n",
              "a:visited.sk-estimator-doc-link {\n",
              "  float: right;\n",
              "  font-size: smaller;\n",
              "  line-height: 1em;\n",
              "  font-family: monospace;\n",
              "  background-color: var(--sklearn-color-background);\n",
              "  border-radius: 1em;\n",
              "  height: 1em;\n",
              "  width: 1em;\n",
              "  text-decoration: none !important;\n",
              "  margin-left: 1ex;\n",
              "  /* unfitted */\n",
              "  border: var(--sklearn-color-unfitted-level-1) 1pt solid;\n",
              "  color: var(--sklearn-color-unfitted-level-1);\n",
              "}\n",
              "\n",
              ".sk-estimator-doc-link.fitted,\n",
              "a:link.sk-estimator-doc-link.fitted,\n",
              "a:visited.sk-estimator-doc-link.fitted {\n",
              "  /* fitted */\n",
              "  border: var(--sklearn-color-fitted-level-1) 1pt solid;\n",
              "  color: var(--sklearn-color-fitted-level-1);\n",
              "}\n",
              "\n",
              "/* On hover */\n",
              "div.sk-estimator:hover .sk-estimator-doc-link:hover,\n",
              ".sk-estimator-doc-link:hover,\n",
              "div.sk-label-container:hover .sk-estimator-doc-link:hover,\n",
              ".sk-estimator-doc-link:hover {\n",
              "  /* unfitted */\n",
              "  background-color: var(--sklearn-color-unfitted-level-3);\n",
              "  color: var(--sklearn-color-background);\n",
              "  text-decoration: none;\n",
              "}\n",
              "\n",
              "div.sk-estimator.fitted:hover .sk-estimator-doc-link.fitted:hover,\n",
              ".sk-estimator-doc-link.fitted:hover,\n",
              "div.sk-label-container:hover .sk-estimator-doc-link.fitted:hover,\n",
              ".sk-estimator-doc-link.fitted:hover {\n",
              "  /* fitted */\n",
              "  background-color: var(--sklearn-color-fitted-level-3);\n",
              "  color: var(--sklearn-color-background);\n",
              "  text-decoration: none;\n",
              "}\n",
              "\n",
              "/* Span, style for the box shown on hovering the info icon */\n",
              ".sk-estimator-doc-link span {\n",
              "  display: none;\n",
              "  z-index: 9999;\n",
              "  position: relative;\n",
              "  font-weight: normal;\n",
              "  right: .2ex;\n",
              "  padding: .5ex;\n",
              "  margin: .5ex;\n",
              "  width: min-content;\n",
              "  min-width: 20ex;\n",
              "  max-width: 50ex;\n",
              "  color: var(--sklearn-color-text);\n",
              "  box-shadow: 2pt 2pt 4pt #999;\n",
              "  /* unfitted */\n",
              "  background: var(--sklearn-color-unfitted-level-0);\n",
              "  border: .5pt solid var(--sklearn-color-unfitted-level-3);\n",
              "}\n",
              "\n",
              ".sk-estimator-doc-link.fitted span {\n",
              "  /* fitted */\n",
              "  background: var(--sklearn-color-fitted-level-0);\n",
              "  border: var(--sklearn-color-fitted-level-3);\n",
              "}\n",
              "\n",
              ".sk-estimator-doc-link:hover span {\n",
              "  display: block;\n",
              "}\n",
              "\n",
              "/* \"?\"-specific style due to the `<a>` HTML tag */\n",
              "\n",
              "#sk-container-id-1 a.estimator_doc_link {\n",
              "  float: right;\n",
              "  font-size: 1rem;\n",
              "  line-height: 1em;\n",
              "  font-family: monospace;\n",
              "  background-color: var(--sklearn-color-background);\n",
              "  border-radius: 1rem;\n",
              "  height: 1rem;\n",
              "  width: 1rem;\n",
              "  text-decoration: none;\n",
              "  /* unfitted */\n",
              "  color: var(--sklearn-color-unfitted-level-1);\n",
              "  border: var(--sklearn-color-unfitted-level-1) 1pt solid;\n",
              "}\n",
              "\n",
              "#sk-container-id-1 a.estimator_doc_link.fitted {\n",
              "  /* fitted */\n",
              "  border: var(--sklearn-color-fitted-level-1) 1pt solid;\n",
              "  color: var(--sklearn-color-fitted-level-1);\n",
              "}\n",
              "\n",
              "/* On hover */\n",
              "#sk-container-id-1 a.estimator_doc_link:hover {\n",
              "  /* unfitted */\n",
              "  background-color: var(--sklearn-color-unfitted-level-3);\n",
              "  color: var(--sklearn-color-background);\n",
              "  text-decoration: none;\n",
              "}\n",
              "\n",
              "#sk-container-id-1 a.estimator_doc_link.fitted:hover {\n",
              "  /* fitted */\n",
              "  background-color: var(--sklearn-color-fitted-level-3);\n",
              "}\n",
              "</style><div id=\"sk-container-id-1\" class=\"sk-top-container\"><div class=\"sk-text-repr-fallback\"><pre>LGBMClassifier(learning_rate=0.01, max_depth=10, n_estimators=200,\n",
              "               num_leaves=15, random_state=123)</pre><b>In a Jupyter environment, please rerun this cell to show the HTML representation or trust the notebook. <br />On GitHub, the HTML representation is unable to render, please try loading this page with nbviewer.org.</b></div><div class=\"sk-container\" hidden><div class=\"sk-item\"><div class=\"sk-estimator fitted sk-toggleable\"><input class=\"sk-toggleable__control sk-hidden--visually\" id=\"sk-estimator-id-1\" type=\"checkbox\" checked><label for=\"sk-estimator-id-1\" class=\"sk-toggleable__label fitted sk-toggleable__label-arrow fitted\">&nbsp;LGBMClassifier<span class=\"sk-estimator-doc-link fitted\">i<span>Fitted</span></span></label><div class=\"sk-toggleable__content fitted\"><pre>LGBMClassifier(learning_rate=0.01, max_depth=10, n_estimators=200,\n",
              "               num_leaves=15, random_state=123)</pre></div> </div></div></div></div>"
            ]
          },
          "metadata": {},
          "execution_count": 82
        }
      ],
      "source": [
        "best_lgbm = LGBMClassifier(**lgbm_grid_search.best_params_, random_state=123)\n",
        "best_lgbm.fit(X_train, y_train)"
      ]
    },
    {
      "cell_type": "code",
      "execution_count": null,
      "metadata": {
        "tags": [],
        "id": "3NE1E6qc8asK"
      },
      "outputs": [],
      "source": [
        "# Initialize SHAP explainer\n",
        "explainer = shap.TreeExplainer(best_lgbm)\n"
      ]
    },
    {
      "cell_type": "code",
      "execution_count": null,
      "metadata": {
        "tags": [],
        "colab": {
          "base_uri": "https://localhost:8080/"
        },
        "id": "vnQwPFmc8asK",
        "outputId": "90aa75e2-c4d6-4297-ef39-64c59afe0867"
      },
      "outputs": [
        {
          "output_type": "stream",
          "name": "stderr",
          "text": [
            "/usr/local/lib/python3.10/dist-packages/shap/explainers/_tree.py:448: UserWarning: LightGBM binary classifier with TreeExplainer shap values output has changed to a list of ndarray\n",
            "  warnings.warn('LightGBM binary classifier with TreeExplainer shap values output has changed to a list of ndarray')\n"
          ]
        }
      ],
      "source": [
        "# Compute SHAP values for the training set\n",
        "shap_values = explainer.shap_values(X_train)\n",
        "shap_values"
      ]
    },
    {
      "cell_type": "code",
      "execution_count": null,
      "metadata": {
        "tags": [],
        "colab": {
          "base_uri": "https://localhost:8080/",
          "height": 821
        },
        "id": "z_ouUxhR8asK",
        "outputId": "93f2820b-e21d-4ee3-fd86-3e36491eeb12"
      },
      "outputs": [
        {
          "output_type": "display_data",
          "data": {
            "text/plain": [
              "<Figure size 800x950 with 2 Axes>"
            ],
            "image/png": "[encoded data removed]"
          },
          "metadata": {}
        }
      ],
      "source": [
        "shap.summary_plot(shap_values, X_train, feature_names=X_train.columns)\n"
      ]
    },
    {
      "cell_type": "code",
      "execution_count": null,
      "metadata": {
        "tags": [],
        "colab": {
          "base_uri": "https://localhost:8080/",
          "height": 811
        },
        "id": "2m_IEDPf8asK",
        "outputId": "3c062b49-5981-4001-a40f-c69b08af3f3f"
      },
      "outputs": [
        {
          "output_type": "display_data",
          "data": {
            "text/plain": [
              "<Figure size 800x950 with 1 Axes>"
            ],
            "image/png": "[encoded data removed]"
          },
          "metadata": {}
        }
      ],
      "source": [
        "shap.summary_plot(shap_values, X_train, feature_names=X_train.columns, plot_type=\"bar\")\n"
      ]
    },
    {
      "cell_type": "markdown",
      "metadata": {
        "deletable": false,
        "editable": false,
        "id": "jtVp2fg_8asK"
      },
      "source": [
        "<!-- END QUESTION -->\n",
        "\n",
        "<br><br>"
      ]
    },
    {
      "cell_type": "markdown",
      "metadata": {
        "deletable": false,
        "editable": false,
        "jp-MarkdownHeadingCollapsed": true,
        "tags": [],
        "id": "s-seIM-68asK"
      },
      "source": [
        "<!-- BEGIN QUESTION -->\n",
        "\n",
        "## 12. Results on the test set <a name=\"12\"></a>\n",
        "<hr>\n",
        "\n",
        "rubric={points:10}\n",
        "\n",
        "**Your tasks:**\n",
        "\n",
        "1. Try your best performing model on the test data and report test scores.\n",
        "2. Do the test scores agree with the validation scores from before? To what extent do you trust your results? Do you think you've had issues with optimization bias?\n",
        "3. Take one or two test predictions and explain these individual predictions (e.g., with SHAP force plots).  "
      ]
    },
    {
      "cell_type": "markdown",
      "metadata": {
        "deletable": false,
        "editable": false,
        "id": "H_kdhr0M8asK"
      },
      "source": [
        "<div class=\"alert alert-warning\">\n",
        "    \n",
        "Solution_12\n",
        "    \n",
        "</div>\n",
        "\n",
        "_Points:_ 10"
      ]
    },
    {
      "cell_type": "markdown",
      "metadata": {
        "id": "CC7T291B8asK"
      },
      "source": [
        "_Type your answer here, replacing this text._"
      ]
    },
    {
      "cell_type": "code",
      "execution_count": null,
      "metadata": {
        "tags": [],
        "colab": {
          "base_uri": "https://localhost:8080/"
        },
        "id": "149BjEgL8asK",
        "outputId": "cce075cd-2940-4d67-cca4-a5f95424b429"
      },
      "outputs": [
        {
          "output_type": "stream",
          "name": "stdout",
          "text": [
            "XGBoost Test Set Classification Report:\n",
            "              precision    recall  f1-score   support\n",
            "\n",
            "           0       0.84      0.95      0.89      7040\n",
            "           1       0.67      0.35      0.46      1960\n",
            "\n",
            "    accuracy                           0.82      9000\n",
            "   macro avg       0.76      0.65      0.68      9000\n",
            "weighted avg       0.80      0.82      0.80      9000\n",
            "\n",
            "XGBoost Test Set AUC-ROC: 0.778423983940167\n"
          ]
        }
      ],
      "source": [
        "from sklearn.metrics import accuracy_score, roc_auc_score, classification_report\n",
        "\n",
        "# Evaluate the best XGBoost model on the test set\n",
        "xgb_test_preds = optimized_xgb.predict(X_test)\n",
        "xgb_test_probs = optimized_xgb.predict_proba(X_test)[:, 1]\n",
        "\n",
        "# Test Set Performance Metrics\n",
        "print(\"XGBoost Test Set Classification Report:\")\n",
        "print(classification_report(y_test, xgb_test_preds))\n",
        "print(\"XGBoost Test Set AUC-ROC:\", roc_auc_score(y_test, xgb_test_probs))\n"
      ]
    },
    {
      "cell_type": "markdown",
      "source": [
        "Validation vs. Test Scores\n",
        "\n",
        "|Metric|\tValidation Score |\tTest Score |\tObservation|\n",
        "| -------- | ------- | ------- | ------- |\n",
        "|Accuracy| 82.2%|\t82.0%|\tNearly identical, indicating good generalization.|\n",
        "|AUC-ROC\t|0.778 |\t0.778\t|Consistent, confirming reliable model ranking.|\n",
        "|Precision|\t~0.67 (Class 1)\t|0.67 |\tStable precision for identifying defaults.|\n",
        "|Recall\t|~0.35 (Class 1) |\t0.35| \tRecall remains low, a limitation to address.|\n"
      ],
      "metadata": {
        "id": "QayZKC2ss5Mf"
      }
    },
    {
      "cell_type": "markdown",
      "source": [],
      "metadata": {
        "id": "AcBiYK_7ttcp"
      }
    },
    {
      "cell_type": "code",
      "execution_count": null,
      "metadata": {
        "tags": [],
        "colab": {
          "base_uri": "https://localhost:8080/",
          "height": 390
        },
        "id": "w9-919u_8asK",
        "outputId": "37209301-062b-4c56-acaa-c8b66489f3d1"
      },
      "outputs": [
        {
          "output_type": "stream",
          "name": "stderr",
          "text": [
            "/usr/local/lib/python3.10/dist-packages/shap/explainers/_tree.py:448: UserWarning: LightGBM binary classifier with TreeExplainer shap values output has changed to a list of ndarray\n",
            "  warnings.warn('LightGBM binary classifier with TreeExplainer shap values output has changed to a list of ndarray')\n",
            "/usr/local/lib/python3.10/dist-packages/shap/explainers/_tree.py:448: UserWarning: LightGBM binary classifier with TreeExplainer shap values output has changed to a list of ndarray\n",
            "  warnings.warn('LightGBM binary classifier with TreeExplainer shap values output has changed to a list of ndarray')\n"
          ]
        },
        {
          "output_type": "display_data",
          "data": {
            "text/plain": [
              "<Figure size 2000x300 with 1 Axes>"
            ],
            "image/png": "[encoded data removed]"
          },
          "metadata": {}
        },
        {
          "output_type": "display_data",
          "data": {
            "text/plain": [
              "<Figure size 2000x300 with 1 Axes>"
            ],
            "image/png": "[encoded data removed]"
          },
          "metadata": {}
        }
      ],
      "source": [
        "sample_positive = X_test.iloc[[1]]  # Example with positive prediction\n",
        "sample_negative = X_test.iloc[[2]]  # Example with negative prediction\n",
        "\n",
        "# Explain predictions\n",
        "shap_positive = explainer.shap_values(sample_positive)\n",
        "shap_negative = explainer.shap_values(sample_negative)\n",
        "a\n",
        "shap.force_plot(explainer.expected_value, shap_positive[0], sample_positive.iloc[0], matplotlib=True)\n",
        "shap.force_plot(explainer.expected_value, shap_negative[0], sample_negative.iloc[0], matplotlib=True)"
      ]
    },
    {
      "cell_type": "markdown",
      "source": [
        "The SHAP force plot you've provided gives a detailed explanation of how each feature contributed to a specific prediction (e.g., the likelihood of default or non-default). Here’s how to interpret the key elements of the plot:\n",
        "\n",
        "Explanation of Force Plot\n",
        "Base Value:\n",
        "\n",
        "The base value represents the model’s expected output if no features were considered. It’s the starting point for the prediction.\n",
        "f(x):\n",
        "\n",
        "The final output of the model for this instance. This value is adjusted based on the contributions of each feature.\n",
        "Red Bars (Positive Contribution):\n",
        "\n",
        "Features with red bars push the prediction higher, increasing the likelihood of the positive class (e.g., default risk).\n",
        "Example: DEBT_LIMIT_RATIO_1 and DEBT_LIMIT_RATIO_2 are positively contributing to the prediction.\n",
        "Blue Bars (Negative Contribution):\n",
        "\n",
        "Features with blue bars push the prediction lower, decreasing the likelihood of the positive class (e.g., reducing default risk).\n",
        "Example: DELAYED_PAYMENT_1 and TOTAL_PAYMENT have a negative impact, lowering the default risk for this instance.\n",
        "Magnitude of Contributions:\n",
        "\n",
        "The length of each bar indicates the strength of the feature’s impact on the prediction. Larger bars contribute more significantly to the output.\n",
        "Insights from the Plot\n",
        "High DEBT_LIMIT_RATIO_1 and DEBT_LIMIT_RATIO_2:\n",
        "\n",
        "These features have significant positive contributions, suggesting that this individual’s high debt-to-limit ratio increased their likelihood of default.\n",
        "Timely Payment History (DELAYED_PAYMENT_1 = 0):\n",
        "\n",
        "This feature contributed negatively, suggesting that the absence of payment delays significantly reduced the likelihood of default.\n",
        "High TOTAL_PAYMENT:\n",
        "\n",
        "A large total payment amount decreased the likelihood of default, as it indicates the individual’s ability to meet their financial obligations.\n",
        "Conclusions\n",
        "This specific prediction shows a balance between financial strain (high debt-to-limit ratios) and responsible financial behavior (timely payments and substantial total payments).\n",
        "The model’s output aligns with domain knowledge: high debt utilization increases risk, while timely and large payments mitigate it.\n",
        "Let me know if you'd like further analysis or to visualize additional predictions!"
      ],
      "metadata": {
        "id": "qUgCku-MuV66"
      }
    },
    {
      "cell_type": "markdown",
      "metadata": {
        "deletable": false,
        "editable": false,
        "id": "weQuXVF28asL"
      },
      "source": [
        "<!-- END QUESTION -->\n",
        "\n",
        "<br><br>"
      ]
    },
    {
      "cell_type": "markdown",
      "metadata": {
        "deletable": false,
        "editable": false,
        "id": "PhYTta148asL"
      },
      "source": [
        "<!-- BEGIN QUESTION -->\n",
        "\n",
        "## 13. Summary of results <a name=\"13\"></a>\n",
        "<hr>\n",
        "rubric={points:12}\n",
        "\n",
        "Imagine that you want to present the summary of these results to your boss and co-workers.\n",
        "\n",
        "**Your tasks:**\n",
        "\n",
        "1. Create a table summarizing important results.\n",
        "2. Write concluding remarks.\n",
        "3. Discuss other ideas that you did not try but could potentially improve the performance/interpretability .\n",
        "3. Report your final test score along with the metric you used at the top of this notebook in the [Submission instructions section](#si)."
      ]
    },
    {
      "cell_type": "markdown",
      "metadata": {
        "deletable": false,
        "editable": false,
        "id": "nqdrr6KJ8asL"
      },
      "source": [
        "<div class=\"alert alert-warning\">\n",
        "    \n",
        "Solution_13\n",
        "    \n",
        "</div>\n",
        "\n",
        "_Points:_ 12"
      ]
    },
    {
      "cell_type": "markdown",
      "metadata": {
        "id": "Y08EQ6JC8asL"
      },
      "source": [
        "_Type your answer here, replacing this text._"
      ]
    },
    {
      "cell_type": "code",
      "execution_count": null,
      "metadata": {
        "tags": [],
        "id": "Zz9ICtSL8asL"
      },
      "outputs": [],
      "source": [
        "# results_summary = {\n",
        "#     \"Model\": [\"RandomForest \", \"GradientBoosting \", \"\"],\n",
        "#     \"Mean F1 Score (CV)\": [rf_best_score, gb_best_score, 0.679948],\n",
        "#     \"Standard Deviation (CV)\": [0.004580, 0.004656, 0.000130],\n",
        "#     \"Fit Time (s)\": [51.05, 92.08, 467.23],  # Fit times from previous results\n",
        "#     \"Test F1 Score\": [None, None, None]  # Placeholder for the test F1 scores\n",
        "# }\n",
        "\n",
        "# results_df = pd.DataFrame(results_summary)\n",
        "\n",
        "# results_df\n",
        "\n",
        "results_summary = {\n",
        "    \"Model\": [\"LightGBM\", \"XGBoost\"],\n",
        "    \"Validation Accuracy\": [ 0.821, 0.822],\n",
        "    \"Test Accuracy\": [ 0.820, 0.820],\n",
        "    \"Validation AUC-ROC\": [ 0.778, 0.778],\n",
        "    \"Test AUC-ROC\": [ 0.777, 0.778],\n",
        "    \"Fit Time (s)\": [ 0.54, 0.87],\n",
        "    \"Test F1 Score\": [ 0.46, 0.46]\n",
        "}"
      ]
    },
    {
      "cell_type": "code",
      "source": [
        "pd.DataFrame(results_summary)"
      ],
      "metadata": {
        "id": "tc-y1C1nzDqq",
        "colab": {
          "base_uri": "https://localhost:8080/",
          "height": 129
        },
        "outputId": "5add02a9-3a7c-4f5e-de9b-de743e5a88a8"
      },
      "execution_count": null,
      "outputs": [
        {
          "output_type": "execute_result",
          "data": {
            "text/plain": [
              "      Model  Validation Accuracy  Test Accuracy  Validation AUC-ROC  \\\n",
              "0  LightGBM                0.821           0.82               0.778   \n",
              "1   XGBoost                0.822           0.82               0.778   \n",
              "\n",
              "   Test AUC-ROC  Fit Time (s)  Test F1 Score  \n",
              "0         0.777          0.54           0.46  \n",
              "1         0.778          0.87           0.46  "
            ],
            "text/html": [
              "\n",
              "  <div id=\"df-d88dd475-351b-4733-876d-d59351592243\" class=\"colab-df-container\">\n",
              "    <div>\n",
              "<style scoped>\n",
              "    .dataframe tbody tr th:only-of-type {\n",
              "        vertical-align: middle;\n",
              "    }\n",
              "\n",
              "    .dataframe tbody tr th {\n",
              "        vertical-align: top;\n",
              "    }\n",
              "\n",
              "    .dataframe thead th {\n",
              "        text-align: right;\n",
              "    }\n",
              "</style>\n",
              "<table border=\"1\" class=\"dataframe\">\n",
              "  <thead>\n",
              "    <tr style=\"text-align: right;\">\n",
              "      <th></th>\n",
              "      <th>Model</th>\n",
              "      <th>Validation Accuracy</th>\n",
              "      <th>Test Accuracy</th>\n",
              "      <th>Validation AUC-ROC</th>\n",
              "      <th>Test AUC-ROC</th>\n",
              "      <th>Fit Time (s)</th>\n",
              "      <th>Test F1 Score</th>\n",
              "    </tr>\n",
              "  </thead>\n",
              "  <tbody>\n",
              "    <tr>\n",
              "      <th>0</th>\n",
              "      <td>LightGBM</td>\n",
              "      <td>0.821</td>\n",
              "      <td>0.82</td>\n",
              "      <td>0.778</td>\n",
              "      <td>0.777</td>\n",
              "      <td>0.54</td>\n",
              "      <td>0.46</td>\n",
              "    </tr>\n",
              "    <tr>\n",
              "      <th>1</th>\n",
              "      <td>XGBoost</td>\n",
              "      <td>0.822</td>\n",
              "      <td>0.82</td>\n",
              "      <td>0.778</td>\n",
              "      <td>0.778</td>\n",
              "      <td>0.87</td>\n",
              "      <td>0.46</td>\n",
              "    </tr>\n",
              "  </tbody>\n",
              "</table>\n",
              "</div>\n",
              "    <div class=\"colab-df-buttons\">\n",
              "\n",
              "  <div class=\"colab-df-container\">\n",
              "    <button class=\"colab-df-convert\" onclick=\"convertToInteractive('df-d88dd475-351b-4733-876d-d59351592243')\"\n",
              "            title=\"Convert this dataframe to an interactive table.\"\n",
              "            style=\"display:none;\">\n",
              "\n",
              "  <svg xmlns=\"http://www.w3.org/2000/svg\" height=\"24px\" viewBox=\"0 -960 960 960\">\n",
              "    <path d=\"M120-120v-720h720v720H120Zm60-500h600v-160H180v160Zm220 220h160v-160H400v160Zm0 220h160v-160H400v160ZM180-400h160v-160H180v160Zm440 0h160v-160H620v160ZM180-180h160v-160H180v160Zm440 0h160v-160H620v160Z\"/>\n",
              "  </svg>\n",
              "    </button>\n",
              "\n",
              "  <style>\n",
              "    .colab-df-container {\n",
              "      display:flex;\n",
              "      gap: 12px;\n",
              "    }\n",
              "\n",
              "    .colab-df-convert {\n",
              "      background-color: #E8F0FE;\n",
              "      border: none;\n",
              "      border-radius: 50%;\n",
              "      cursor: pointer;\n",
              "      display: none;\n",
              "      fill: #1967D2;\n",
              "      height: 32px;\n",
              "      padding: 0 0 0 0;\n",
              "      width: 32px;\n",
              "    }\n",
              "\n",
              "    .colab-df-convert:hover {\n",
              "      background-color: #E2EBFA;\n",
              "      box-shadow: 0px 1px 2px rgba(60, 64, 67, 0.3), 0px 1px 3px 1px rgba(60, 64, 67, 0.15);\n",
              "      fill: #174EA6;\n",
              "    }\n",
              "\n",
              "    .colab-df-buttons div {\n",
              "      margin-bottom: 4px;\n",
              "    }\n",
              "\n",
              "    [theme=dark] .colab-df-convert {\n",
              "      background-color: #3B4455;\n",
              "      fill: #D2E3FC;\n",
              "    }\n",
              "\n",
              "    [theme=dark] .colab-df-convert:hover {\n",
              "      background-color: #434B5C;\n",
              "      box-shadow: 0px 1px 3px 1px rgba(0, 0, 0, 0.15);\n",
              "      filter: drop-shadow(0px 1px 2px rgba(0, 0, 0, 0.3));\n",
              "      fill: #FFFFFF;\n",
              "    }\n",
              "  </style>\n",
              "\n",
              "    <script>\n",
              "      const buttonEl =\n",
              "        document.querySelector('#df-d88dd475-351b-4733-876d-d59351592243 button.colab-df-convert');\n",
              "      buttonEl.style.display =\n",
              "        google.colab.kernel.accessAllowed ? 'block' : 'none';\n",
              "\n",
              "      async function convertToInteractive(key) {\n",
              "        const element = document.querySelector('#df-d88dd475-351b-4733-876d-d59351592243');\n",
              "        const dataTable =\n",
              "          await google.colab.kernel.invokeFunction('convertToInteractive',\n",
              "                                                    [key], {});\n",
              "        if (!dataTable) return;\n",
              "\n",
              "        const docLinkHtml = 'Like what you see? Visit the ' +\n",
              "          '<a target=\"_blank\" href=https://colab.research.google.com/notebooks/data_table.ipynb>data table notebook</a>'\n",
              "          + ' to learn more about interactive tables.';\n",
              "        element.innerHTML = '';\n",
              "        dataTable['output_type'] = 'display_data';\n",
              "        await google.colab.output.renderOutput(dataTable, element);\n",
              "        const docLink = document.createElement('div');\n",
              "        docLink.innerHTML = docLinkHtml;\n",
              "        element.appendChild(docLink);\n",
              "      }\n",
              "    </script>\n",
              "  </div>\n",
              "\n",
              "\n",
              "<div id=\"df-42eb4c17-63eb-4a0a-9d90-56ca1aa6bc97\">\n",
              "  <button class=\"colab-df-quickchart\" onclick=\"quickchart('df-42eb4c17-63eb-4a0a-9d90-56ca1aa6bc97')\"\n",
              "            title=\"Suggest charts\"\n",
              "            style=\"display:none;\">\n",
              "\n",
              "<svg xmlns=\"http://www.w3.org/2000/svg\" height=\"24px\"viewBox=\"0 0 24 24\"\n",
              "     width=\"24px\">\n",
              "    <g>\n",
              "        <path d=\"M19 3H5c-1.1 0-2 .9-2 2v14c0 1.1.9 2 2 2h14c1.1 0 2-.9 2-2V5c0-1.1-.9-2-2-2zM9 17H7v-7h2v7zm4 0h-2V7h2v10zm4 0h-2v-4h2v4z\"/>\n",
              "    </g>\n",
              "</svg>\n",
              "  </button>\n",
              "\n",
              "<style>\n",
              "  .colab-df-quickchart {\n",
              "      --bg-color: #E8F0FE;\n",
              "      --fill-color: #1967D2;\n",
              "      --hover-bg-color: #E2EBFA;\n",
              "      --hover-fill-color: #174EA6;\n",
              "      --disabled-fill-color: #AAA;\n",
              "      --disabled-bg-color: #DDD;\n",
              "  }\n",
              "\n",
              "  [theme=dark] .colab-df-quickchart {\n",
              "      --bg-color: #3B4455;\n",
              "      --fill-color: #D2E3FC;\n",
              "      --hover-bg-color: #434B5C;\n",
              "      --hover-fill-color: #FFFFFF;\n",
              "      --disabled-bg-color: #3B4455;\n",
              "      --disabled-fill-color: #666;\n",
              "  }\n",
              "\n",
              "  .colab-df-quickchart {\n",
              "    background-color: var(--bg-color);\n",
              "    border: none;\n",
              "    border-radius: 50%;\n",
              "    cursor: pointer;\n",
              "    display: none;\n",
              "    fill: var(--fill-color);\n",
              "    height: 32px;\n",
              "    padding: 0;\n",
              "    width: 32px;\n",
              "  }\n",
              "\n",
              "  .colab-df-quickchart:hover {\n",
              "    background-color: var(--hover-bg-color);\n",
              "    box-shadow: 0 1px 2px rgba(60, 64, 67, 0.3), 0 1px 3px 1px rgba(60, 64, 67, 0.15);\n",
              "    fill: var(--button-hover-fill-color);\n",
              "  }\n",
              "\n",
              "  .colab-df-quickchart-complete:disabled,\n",
              "  .colab-df-quickchart-complete:disabled:hover {\n",
              "    background-color: var(--disabled-bg-color);\n",
              "    fill: var(--disabled-fill-color);\n",
              "    box-shadow: none;\n",
              "  }\n",
              "\n",
              "  .colab-df-spinner {\n",
              "    border: 2px solid var(--fill-color);\n",
              "    border-color: transparent;\n",
              "    border-bottom-color: var(--fill-color);\n",
              "    animation:\n",
              "      spin 1s steps(1) infinite;\n",
              "  }\n",
              "\n",
              "  @keyframes spin {\n",
              "    0% {\n",
              "      border-color: transparent;\n",
              "      border-bottom-color: var(--fill-color);\n",
              "      border-left-color: var(--fill-color);\n",
              "    }\n",
              "    20% {\n",
              "      border-color: transparent;\n",
              "      border-left-color: var(--fill-color);\n",
              "      border-top-color: var(--fill-color);\n",
              "    }\n",
              "    30% {\n",
              "      border-color: transparent;\n",
              "      border-left-color: var(--fill-color);\n",
              "      border-top-color: var(--fill-color);\n",
              "      border-right-color: var(--fill-color);\n",
              "    }\n",
              "    40% {\n",
              "      border-color: transparent;\n",
              "      border-right-color: var(--fill-color);\n",
              "      border-top-color: var(--fill-color);\n",
              "    }\n",
              "    60% {\n",
              "      border-color: transparent;\n",
              "      border-right-color: var(--fill-color);\n",
              "    }\n",
              "    80% {\n",
              "      border-color: transparent;\n",
              "      border-right-color: var(--fill-color);\n",
              "      border-bottom-color: var(--fill-color);\n",
              "    }\n",
              "    90% {\n",
              "      border-color: transparent;\n",
              "      border-bottom-color: var(--fill-color);\n",
              "    }\n",
              "  }\n",
              "</style>\n",
              "\n",
              "  <script>\n",
              "    async function quickchart(key) {\n",
              "      const quickchartButtonEl =\n",
              "        document.querySelector('#' + key + ' button');\n",
              "      quickchartButtonEl.disabled = true;  // To prevent multiple clicks.\n",
              "      quickchartButtonEl.classList.add('colab-df-spinner');\n",
              "      try {\n",
              "        const charts = await google.colab.kernel.invokeFunction(\n",
              "            'suggestCharts', [key], {});\n",
              "      } catch (error) {\n",
              "        console.error('Error during call to suggestCharts:', error);\n",
              "      }\n",
              "      quickchartButtonEl.classList.remove('colab-df-spinner');\n",
              "      quickchartButtonEl.classList.add('colab-df-quickchart-complete');\n",
              "    }\n",
              "    (() => {\n",
              "      let quickchartButtonEl =\n",
              "        document.querySelector('#df-42eb4c17-63eb-4a0a-9d90-56ca1aa6bc97 button');\n",
              "      quickchartButtonEl.style.display =\n",
              "        google.colab.kernel.accessAllowed ? 'block' : 'none';\n",
              "    })();\n",
              "  </script>\n",
              "</div>\n",
              "\n",
              "    </div>\n",
              "  </div>\n"
            ],
            "application/vnd.google.colaboratory.intrinsic+json": {
              "type": "dataframe",
              "summary": "{\n  \"name\": \"pd\",\n  \"rows\": 2,\n  \"fields\": [\n    {\n      \"column\": \"Model\",\n      \"properties\": {\n        \"dtype\": \"string\",\n        \"num_unique_values\": 2,\n        \"samples\": [\n          \"XGBoost\",\n          \"LightGBM\"\n        ],\n        \"semantic_type\": \"\",\n        \"description\": \"\"\n      }\n    },\n    {\n      \"column\": \"Validation Accuracy\",\n      \"properties\": {\n        \"dtype\": \"number\",\n        \"std\": 0.0007071067811865482,\n        \"min\": 0.821,\n        \"max\": 0.822,\n        \"num_unique_values\": 2,\n        \"samples\": [\n          0.822,\n          0.821\n        ],\n        \"semantic_type\": \"\",\n        \"description\": \"\"\n      }\n    },\n    {\n      \"column\": \"Test Accuracy\",\n      \"properties\": {\n        \"dtype\": \"number\",\n        \"std\": 0.0,\n        \"min\": 0.82,\n        \"max\": 0.82,\n        \"num_unique_values\": 1,\n        \"samples\": [\n          0.82\n        ],\n        \"semantic_type\": \"\",\n        \"description\": \"\"\n      }\n    },\n    {\n      \"column\": \"Validation AUC-ROC\",\n      \"properties\": {\n        \"dtype\": \"number\",\n        \"std\": 0.0,\n        \"min\": 0.778,\n        \"max\": 0.778,\n        \"num_unique_values\": 1,\n        \"samples\": [\n          0.778\n        ],\n        \"semantic_type\": \"\",\n        \"description\": \"\"\n      }\n    },\n    {\n      \"column\": \"Test AUC-ROC\",\n      \"properties\": {\n        \"dtype\": \"number\",\n        \"std\": 0.0007071067811865482,\n        \"min\": 0.777,\n        \"max\": 0.778,\n        \"num_unique_values\": 2,\n        \"samples\": [\n          0.778\n        ],\n        \"semantic_type\": \"\",\n        \"description\": \"\"\n      }\n    },\n    {\n      \"column\": \"Fit Time (s)\",\n      \"properties\": {\n        \"dtype\": \"number\",\n        \"std\": 0.23334523779156066,\n        \"min\": 0.54,\n        \"max\": 0.87,\n        \"num_unique_values\": 2,\n        \"samples\": [\n          0.87\n        ],\n        \"semantic_type\": \"\",\n        \"description\": \"\"\n      }\n    },\n    {\n      \"column\": \"Test F1 Score\",\n      \"properties\": {\n        \"dtype\": \"number\",\n        \"std\": 0.0,\n        \"min\": 0.46,\n        \"max\": 0.46,\n        \"num_unique_values\": 1,\n        \"samples\": [\n          0.46\n        ],\n        \"semantic_type\": \"\",\n        \"description\": \"\"\n      }\n    }\n  ]\n}"
            }
          },
          "metadata": {},
          "execution_count": 100
        }
      ]
    },
    {
      "cell_type": "markdown",
      "source": [
        "2. Concluding Remarks\n",
        "\n",
        "Best Model: **XGBoost** achieved the highest AUC-ROC score (0.778) and maintained consistent performance across validation and test sets.\n",
        "\n",
        "Model Performance:\n",
        "\n",
        "Models performed well on the majority class (non-defaults) but struggled with recall for the minority class (defaults).\n",
        "\n",
        "XGBoost and LightGBM showed competitive performance, with LightGBM being faster but slightly less robust.\n",
        "\n",
        "Interpretability:\n",
        "SHAP analysis highlighted critical features such as PAY_1 (recent payment status) and LIMIT_BAL (credit limit), confirming the model's alignment with domain knowledge.\n",
        "\n",
        "3. Potential Improvements\n",
        "Address Class Imbalance:\n",
        "\n",
        "Techniques like SMOTE (oversampling), undersampling, or using class weights could improve recall for the minority class (defaults).\n",
        "Tuning hyperparameters such as scale_pos_weight in XGBoost/LightGBM to emphasize class 1.\n",
        "Feature Engineering:\n",
        "\n",
        "Introduce new features such as payment consistency, debt growth rate, or average utilization over multiple months.\n",
        "Explore non-linear feature transformations to capture more complex patterns.\n",
        "Threshold Optimization:\n",
        "\n",
        "Adjust the decision threshold to balance recall and precision for the minority class.\n",
        "Ensemble Techniques:\n",
        "\n",
        "Combine LightGBM and XGBoost in a voting or stacking model to leverage their strengths.\n",
        "Consider blending tree-based models with interpretable models like logistic regression.\n",
        "Model Interpretability:\n",
        "\n",
        "Use additional interpretability tools (e.g., LIME) for localized insights into predictions.\n",
        "\n",
        "\n",
        "4. Final Test Score\n",
        "Final Model: XGBoost\n",
        "Metric: AUC-ROC\n",
        "Test Score: 0.778\n"
      ],
      "metadata": {
        "id": "w2YjtnxWzEUr"
      }
    },
    {
      "cell_type": "markdown",
      "metadata": {
        "deletable": false,
        "editable": false,
        "id": "NjNZRGu-8asL"
      },
      "source": [
        "<!-- END QUESTION -->\n",
        "\n",
        "<br><br>"
      ]
    },
    {
      "cell_type": "markdown",
      "metadata": {
        "id": "NVuVn53l8asL"
      },
      "source": [
        "<br><br>"
      ]
    },
    {
      "cell_type": "markdown",
      "metadata": {
        "deletable": false,
        "editable": false,
        "id": "VZM8gd-T8asL"
      },
      "source": [
        "<!-- BEGIN QUESTION -->\n",
        "\n",
        "## 14. Your takeaway <a name=\"15\"></a>\n",
        "<hr>\n",
        "rubric={points:2}\n",
        "\n",
        "**Your tasks:**\n",
        "\n",
        "What is your biggest takeaway from the supervised machine learning material we have learned so far? Please write thoughtful answers.  "
      ]
    },
    {
      "cell_type": "markdown",
      "metadata": {
        "deletable": false,
        "editable": false,
        "id": "W4nFdYQ68asL"
      },
      "source": [
        "<div class=\"alert alert-warning\">\n",
        "    \n",
        "Solution_14\n",
        "    \n",
        "</div>\n",
        "\n",
        "_Points:_ 2"
      ]
    },
    {
      "cell_type": "markdown",
      "metadata": {
        "id": "pz2LnMaC8asL"
      },
      "source": [
        "My biggest takeaway from the supervised machine learning material we have covered so far is the realization that machine learning is both powerful and complex, requiring a balance between theoretical understanding and practical implementation. Working on this project has taught me the importance of careful data preprocessing, feature engineering, and model selection, but I also learned how easily technical challenges can derail progress.\n",
        "\n",
        "However, my experience has also been frustrating, especially after the 9th part of this project, when both my UBC Syzygy and Google Colab environments failed to run properly. Despite my best efforts—going through tutorials, asking questions on Piazza, and resetting everything in my setup—the issues persisted. These technical difficulties significantly undermined the quality of my last two homework submissions, making it difficult to apply what I had learned. While the journey has been enlightening, it also highlighted the need for resilience and the ability to troubleshoot effectively in a field that relies so heavily on stable computing environments."
      ]
    },
    {
      "cell_type": "markdown",
      "metadata": {
        "deletable": false,
        "editable": false,
        "id": "sMqikDWv8asM"
      },
      "source": [
        "<!-- END QUESTION -->\n",
        "\n",
        "<br><br>"
      ]
    },
    {
      "cell_type": "markdown",
      "metadata": {
        "id": "d3zTkeiU8asM"
      },
      "source": [
        "**PLEASE READ BEFORE YOU SUBMIT:**\n",
        "\n",
        "When you are ready to submit your assignment do the following:\n",
        "\n",
        "1. Run all cells in your notebook to make sure there are no errors by doing `Kernel -> Restart Kernel and Clear All Outputs` and then `Run -> Run All Cells`.\n",
        "2. Notebooks with cell execution numbers out of order or not starting from \"1\" will have marks deducted. Notebooks without the output displayed may not be graded at all (because we need to see the output in order to grade your work).\n",
        "4. Upload the assignment using Gradescope's drag and drop tool. Check out this [Gradescope Student Guide](https://lthub.ubc.ca/guides/gradescope-student-guide/) if you need help with Gradescope submission.\n",
        "5. Make sure that the plots and output are rendered properly in your submitted file. If the .ipynb file is too big and doesn't render on Gradescope, also upload a pdf or html in addition to the .ipynb so that the TAs can view your submission on Gradescope."
      ]
    },
    {
      "cell_type": "markdown",
      "metadata": {
        "id": "L3Q-0j2t8asM"
      },
      "source": [
        "This was a tricky one but you did it!"
      ]
    },
    {
      "cell_type": "markdown",
      "metadata": {
        "id": "C1uKd8sZ8asM"
      },
      "source": [
        "![](img/eva-well-done.png)"
      ]
    }
  ],
  "metadata": {
    "kernelspec": {
      "display_name": "Python 3 (ipykernel)",
      "language": "python",
      "name": "python3"
    },
    "language_info": {
      "codemirror_mode": {
        "name": "ipython",
        "version": 3
      },
      "file_extension": ".py",
      "mimetype": "text/x-python",
      "name": "python",
      "nbconvert_exporter": "python",
      "pygments_lexer": "ipython3",
      "version": "3.11.9"
    },
    "otter": {
      "OK_FORMAT": true,
      "tests": {}
    },
    "colab": {
      "provenance": []
    }
  },
  "nbformat": 4,
  "nbformat_minor": 0
}